{
 "cells": [
  {
   "cell_type": "markdown",
   "id": "2fb4e33e",
   "metadata": {},
   "source": [
    "# File Handling"
   ]
  },
  {
   "cell_type": "markdown",
   "id": "684d405d",
   "metadata": {},
   "source": [
    "### 1. Write a python function that copies a file reading and writing up to 50 characters at a time."
   ]
  },
  {
   "cell_type": "code",
   "execution_count": 50,
   "id": "327b7d23",
   "metadata": {},
   "outputs": [],
   "source": [
    "with open('src.txt', 'w') as f:\n",
    " f.write('''2 deaths in Kerala caused by Nipah virus, 2 others, incuding 9-year-old boy, test positive ''')\n",
    " f.close    \n",
    "  \n",
    "\n"
   ]
  },
  {
   "cell_type": "code",
   "execution_count": 51,
   "id": "68469369",
   "metadata": {},
   "outputs": [],
   "source": [
    "def copy50():\n",
    " with open('src.txt', 'r') as f:\n",
    "    data = f.read(50)\n",
    " \n",
    " with open('dst.txt', 'w') as fcopy:\n",
    "    fcopy.write(data)\n",
    "    "
   ]
  },
  {
   "cell_type": "code",
   "execution_count": 52,
   "id": "3a84e814",
   "metadata": {},
   "outputs": [],
   "source": [
    "copy50()"
   ]
  },
  {
   "cell_type": "code",
   "execution_count": 53,
   "id": "bbdd3c1b",
   "metadata": {},
   "outputs": [
    {
     "name": "stdout",
     "output_type": "stream",
     "text": [
      "True\n",
      "2 deaths in Kerala caused by Nipah virus, 2 others\n"
     ]
    }
   ],
   "source": [
    "with open('dst.txt', 'r') as f:\n",
    "    print(f.readable())\n",
    "    print(f.read())"
   ]
  },
  {
   "cell_type": "markdown",
   "id": "1fb0c6ee",
   "metadata": {},
   "source": [
    "### 2. Print all numbers present in the text file and print the number of blank spaces in that file."
   ]
  },
  {
   "cell_type": "code",
   "execution_count": 56,
   "id": "dbb54f23",
   "metadata": {},
   "outputs": [],
   "source": [
    "import re\n",
    "def print_numbers_and_spaces(filename):\n",
    "\n",
    "        with open(filename, 'r') as f:\n",
    "            content = f.read()\n",
    "            numbers = re.findall(r'\\b\\d+\\b', content)\n",
    "            print(\"Numbers:\", numbers)\n",
    "            print(\"Number of blank spaces:\", content.count(' '))\n",
    "\n"
   ]
  },
  {
   "cell_type": "code",
   "execution_count": 57,
   "id": "f57c6774",
   "metadata": {},
   "outputs": [
    {
     "name": "stdout",
     "output_type": "stream",
     "text": [
      "Numbers: ['2', '2']\n",
      "Number of blank spaces: 9\n"
     ]
    }
   ],
   "source": [
    "print_numbers_and_spaces('dst.txt')"
   ]
  },
  {
   "cell_type": "markdown",
   "id": "10baaf5a",
   "metadata": {},
   "source": [
    "### 3. Write a function called sed that takes as arguments a pattern string, a replacement string. and two filenames; it should read the first file and write the contents into the second file (creating it if necessary). If the pattern string appears anywhere in the file, it should be replaced with the replacement string. If an error occurs while opening, reading, writing. or closing files, your program should catch the exception, print an error message, and exit."
   ]
  },
  {
   "cell_type": "code",
   "execution_count": 95,
   "id": "aa9dc6bc",
   "metadata": {},
   "outputs": [],
   "source": [
    "with open('sedf.txt','w') as f:\n",
    "    f.write('''connect the dots ......................... end of line''')\n",
    "\n",
    "\n",
    "def sed(pattern, replacement, src):\n",
    "    try:\n",
    "        with open(src, 'r') as f_src, open('sedr.txt', 'w') as f_dest:\n",
    "            for line in f_src:\n",
    "                new_line = line.replace(pattern, replacement)\n",
    "                f_dest.write(new_line)\n",
    "            \n",
    "    except Exception as e:\n",
    "        print(f\"An error occurred: {e}\")\n"
   ]
  },
  {
   "cell_type": "code",
   "execution_count": 98,
   "id": "09f58e92",
   "metadata": {},
   "outputs": [],
   "source": [
    "pattern = \".........................\"\n",
    "\n",
    "replacement = \"_________________________\"\n",
    "sed(pattern, replacement, 'sedf.txt')"
   ]
  },
  {
   "cell_type": "code",
   "execution_count": 99,
   "id": "42c2f5af",
   "metadata": {},
   "outputs": [
    {
     "name": "stdout",
     "output_type": "stream",
     "text": [
      "connect the dots ......................... end of line\n",
      "connect the dots _________________________ end of line\n"
     ]
    }
   ],
   "source": [
    "with open('sedf.txt', 'r') as f_src:\n",
    "    print(f_src.read())\n",
    "with open('sedr.txt', 'r') as f_dest:\n",
    "    print(f_dest.read())"
   ]
  },
  {
   "cell_type": "markdown",
   "id": "8aaa253e",
   "metadata": {},
   "source": [
    "### 5. Text File Search and Replace: You have a text file with a large amount of text, and you want to search for specific words or phrases and replace them with new content.\n",
    "\n",
    " a. Write Python code to search for and replace text within a text file.\n",
    "\n",
    "b. How would you handle cases where you need to perform multiple replacements ina  single pass?\n"
   ]
  },
  {
   "cell_type": "code",
   "execution_count": 116,
   "id": "2c08bd51",
   "metadata": {},
   "outputs": [],
   "source": [
    "#a. Write Python code to search for and replace text within a text file.\n",
    "def searchreplace(filename, searchtext, replacetext):\n",
    "    with open(filename,'r') as f:\n",
    "        data = f.read()\n",
    "        newdata = data.replace(searchtext,replacetext)\n",
    "        with open(filename,'w') as f:\n",
    "         f.write(newdata)\n",
    "        \n",
    "    \n"
   ]
  },
  {
   "cell_type": "code",
   "execution_count": 117,
   "id": "2c97e621",
   "metadata": {},
   "outputs": [],
   "source": [
    "with open('lat.txt','w') as f:\n",
    "    f.write('''Once in the Event Viewer, you can select the type of log you want to review. You can expand the Windows Logs menu to see different categories of event logs, including application, security, setup, system, and forwarded events.\n",
    "Most log files are recorded in plain text, so you can open them with any text editor. By default, Windows will use Notepad to open a LOG file when you double-click on it.''')\n"
   ]
  },
  {
   "cell_type": "code",
   "execution_count": 118,
   "id": "523a9f2f",
   "metadata": {},
   "outputs": [],
   "source": [
    "searchreplace('lat.txt','log','logins')"
   ]
  },
  {
   "cell_type": "code",
   "execution_count": 120,
   "id": "ef00c20c",
   "metadata": {},
   "outputs": [
    {
     "name": "stdout",
     "output_type": "stream",
     "text": [
      "Once in the Event Viewer, you can select the type of logins you want to review. You can expand the Windows Logs menu to see different categories of event loginss, including application, security, setup, system, and forwarded events.\n",
      "Most logins files are recorded in plain text, so you can open them with any text editor. By default, Windows will use Notepad to open a LOG file when you double-click on it.\n"
     ]
    }
   ],
   "source": [
    "with open('lat.txt','r') as f:\n",
    "    print(f.read())"
   ]
  },
  {
   "cell_type": "code",
   "execution_count": 121,
   "id": "31c70da0",
   "metadata": {},
   "outputs": [],
   "source": [
    "#b. How would you handle cases where you need to perform multiple replacements ina  single pass?\n",
    "def multiplereplacement(filename,replacements):\n",
    "    with open(filename,'r') as f:\n",
    "        data = f.read()\n",
    "    for searchtext, replacetext in replacements:\n",
    "        data = data.replace(searchtext,replacetext)\n",
    "    with open(filename, 'w') as f :\n",
    "        f.write(data)"
   ]
  },
  {
   "cell_type": "code",
   "execution_count": 122,
   "id": "d57757ea",
   "metadata": {},
   "outputs": [],
   "source": [
    "replacements = [('logins', 'log'),('you','we') ]"
   ]
  },
  {
   "cell_type": "code",
   "execution_count": 123,
   "id": "67638bb4",
   "metadata": {},
   "outputs": [],
   "source": [
    "multiplereplacement('lat.txt',replacements)"
   ]
  },
  {
   "cell_type": "code",
   "execution_count": 124,
   "id": "1038f388",
   "metadata": {},
   "outputs": [
    {
     "name": "stdout",
     "output_type": "stream",
     "text": [
      "Once in the Event Viewer, we can select the type of log we want to review. You can expand the Windows Logs menu to see different categories of event logs, including application, security, setup, system, and forwarded events.\n",
      "Most log files are recorded in plain text, so we can open them with any text editor. By default, Windows will use Notepad to open a LOG file when we double-click on it.\n"
     ]
    }
   ],
   "source": [
    "with open('lat.txt','r') as f:\n",
    "    print(f.read())"
   ]
  },
  {
   "cell_type": "markdown",
   "id": "4b447f22",
   "metadata": {},
   "source": [
    "### 6. Write a Python script that concatenates the contents of multiple text files into a single output file. Allow the user to specify the input files and the output file.\n"
   ]
  },
  {
   "cell_type": "code",
   "execution_count": 1,
   "id": "dfe03f29",
   "metadata": {},
   "outputs": [
    {
     "name": "stdout",
     "output_type": "stream",
     "text": [
      "Enter the names of the input files separated by commas: lat.txt, src.txt\n",
      "Enter the name of the output file: dst.txt\n",
      "Concatenation complete. Output saved to dst.txt.\n"
     ]
    }
   ],
   "source": [
    "def concatenate_files(input_files, output_file):\n",
    "    \n",
    "        \n",
    "        with open(output_file, 'w') as outfile:\n",
    "           \n",
    "            for fname in input_files:\n",
    "               \n",
    "                with open(fname, 'r') as infile:\n",
    "                    \n",
    "                    outfile.write(infile.read())\n",
    "                    \n",
    "                \n",
    "                outfile.write('\\n')\n",
    "        print(f\"Concatenation complete. Output saved to {output_file}.\")\n",
    "    \n",
    "\n",
    "if __name__ == \"__main__\":\n",
    "    \n",
    "    input_file_names = input(\"Enter the names of the input files separated by commas: \").split(',')\n",
    "    output_file_name = input(\"Enter the name of the output file: \")\n",
    "\n",
    "    \n",
    "    input_file_names = [name.strip() for name in input_file_names]\n",
    "    output_file_name = output_file_name.strip()\n",
    "\n",
    "    \n",
    "    concatenate_files(input_file_names, output_file_name)\n"
   ]
  },
  {
   "cell_type": "markdown",
   "id": "de877a35",
   "metadata": {},
   "source": [
    "### 7.You are given a text file named input.cxt containing a list of words, one word per line. Your task is to create a Python program that reads the contents of input.txt, processes the words, and writes the result to an output file named output.txt.\n",
    "\n",
    "The program should perform the following operations: \n",
    "\n",
    "i.Read the words from input.txt\n",
    "\n",
    "ii. For each word in the input file, calculate the length of the word and store it in a dictionary where the word is the key, and the length is the value. \n",
    "\n",
    "iii. Write the word-length dictionary to output.txt in the following format:\n",
    "\n",
    "Word1: Length1\n",
    "\n",
    "Word2: Length2\n",
    "\n",
    "iv. Close both input and output files properly.\n",
    "\n",
    "v. Write Python code to accomplish this task. Ensure proper error handling for file operations.\n",
    "\n",
    "Sample Input(\"input.txt')\n",
    "\n",
    "apple\n",
    "\n",
    "banana cherry\n",
    "\n",
    "date\n",
    "\n",
    "Sample Output(\"output.txt)\n",
    "\n",
    "apple: 5\n",
    "\n",
    "banana: 6\n",
    "\n",
    "cherry: 6\n",
    "\n",
    "date: 4\n",
    "\n",
    "Note: Your code should work for any input file containing words and produce the corresponding word-length dictionary in the output file.\n"
   ]
  },
  {
   "cell_type": "code",
   "execution_count": 9,
   "id": "89353229",
   "metadata": {},
   "outputs": [
    {
     "name": "stdout",
     "output_type": "stream",
     "text": [
      "Processing complete. Output saved to output.txt.\n"
     ]
    }
   ],
   "source": [
    "def process_words(input_file, output_file):\n",
    "    try:\n",
    "        word_length_dict = {}\n",
    "        \n",
    "        # Step i: Read the words from input.txt\n",
    "        with open(input_file, 'r') as infile:\n",
    "            for line in infile:\n",
    "                \n",
    "                word = line.strip()\n",
    "                \n",
    "                # Step ii: Calculate the length of the word\n",
    "                word_length = len(word)\n",
    "                \n",
    "                \n",
    "                word_length_dict[word] = word_length\n",
    "\n",
    "        # Step iii: Write the word-length dictionary to output.txt\n",
    "        with open(output_file, 'w') as outfile:\n",
    "            for word, length in word_length_dict.items():\n",
    "                outfile.write(f\"{word}: {length}\\n\")\n",
    "        \n",
    "        print(f\"Processing complete. Output saved to {output_file}.\")\n",
    "\n",
    "    except Exception as e:\n",
    "        print(f\"An error occurred: {e}\")\n",
    "\n",
    "if __name__ == \"__main__\":\n",
    "    input_file = 'input.txt'\n",
    "    output_file = 'output.txt'\n",
    "    \n",
    "    # Step iv: Call the function to process words and handle files\n",
    "    process_words(input_file, output_file)\n"
   ]
  },
  {
   "cell_type": "code",
   "execution_count": 10,
   "id": "fd676c42",
   "metadata": {},
   "outputs": [
    {
     "name": "stdout",
     "output_type": "stream",
     "text": [
      "apple\n",
      "\n",
      "banana \n",
      "\n",
      "cherry\n",
      "\n",
      "data\n",
      "\n",
      "\n"
     ]
    }
   ],
   "source": [
    "with open('input.txt','r') as f:\n",
    "    print(f.read())"
   ]
  },
  {
   "cell_type": "code",
   "execution_count": 11,
   "id": "b9c5ee89",
   "metadata": {},
   "outputs": [
    {
     "name": "stdout",
     "output_type": "stream",
     "text": [
      "apple: 5\n",
      ": 0\n",
      "banana: 6\n",
      "cherry: 6\n",
      "data: 4\n",
      "\n"
     ]
    }
   ],
   "source": [
    "with open('output.txt','r') as f:\n",
    "    print(f.read())"
   ]
  },
  {
   "cell_type": "markdown",
   "id": "25772d95",
   "metadata": {},
   "source": [
    "### 8. Assume that you are developing a student gradebook system for a school. The system should allow teachers to input student grades for various subjects, store the data in files, and provide students with the ability to view their grades. Design a Python program that accomplishes the following tasks:\n",
    "\n",
    "i. Teachers should be able to input grades for students in different subjects \n",
    "\n",
    "ii. Store the student grade data in separate text files for each subject. .\n",
    "\n",
    "iii. Students should be able to view their grades for each subject.\n",
    "\n",
    "iv. Implement error handling for file operations, such as file not found or permission issues.\n"
   ]
  },
  {
   "cell_type": "code",
   "execution_count": null,
   "id": "8e93874a",
   "metadata": {},
   "outputs": [
    {
     "name": "stdout",
     "output_type": "stream",
     "text": [
      "1. Input Grades (Teacher)\n",
      "2. View Grades (Student)\n",
      "3. Exit\n"
     ]
    }
   ],
   "source": [
    "import os\n",
    "\n",
    "def input_grades():\n",
    "    subject = input(\"Enter the subject name: \").strip()\n",
    "    filename = f\"{subject}.txt\"\n",
    "    \n",
    "        with open(filename, 'a') as f:\n",
    "            while True:\n",
    "                student_name = input(\"Enter the student name: \").strip()\n",
    "                grade = input(f\"Enter the grade for {student_name} in {subject}: \").strip()\n",
    "                \n",
    "                f.write(f\"{student_name}: {grade}\\n\")\n",
    "                \n",
    "                another = input(\"Do you want to enter another grade? (y/n): \").strip().lower()\n",
    "                if another != 'y':\n",
    "                    break\n",
    "                    \n",
    "        print(f\"Grades for {subject} have been saved.\")\n",
    "\n",
    "       \n",
    "\n",
    "def view_grades():\n",
    "    student_name = input(\"Enter your name: \").strip()\n",
    "    \n",
    "    subjects = [f for f in os.listdir() if f.endswith('.txt')]\n",
    "    \n",
    "    for subject in subjects:\n",
    "      \n",
    "            with open(subject, 'r') as f:\n",
    "                lines = f.readlines()\n",
    "                for line in lines:\n",
    "                    name, grade = line.strip().split(': ')\n",
    "                    if name == student_name:\n",
    "                        print(f\"Your grade in {subject[:-4]} is: {grade}\")\n",
    "                        \n",
    "       \n",
    "if __name__ == \"__main__\":\n",
    "    while True:\n",
    "        print(\"1. Input Grades (Teacher)\")\n",
    "        print(\"2. View Grades (Student)\")\n",
    "        print(\"3. Exit\")\n",
    "        \n",
    "        choice = input(\"Enter your choice: \").strip()\n",
    "        \n",
    "        if choice == '1':\n",
    "            input_grades()\n",
    "        elif choice == '2':\n",
    "            view_grades()\n",
    "        elif choice == '3':\n",
    "            break\n",
    "        else:\n",
    "            print(\"Invalid choice. Please try again.\")\n"
   ]
  },
  {
   "cell_type": "markdown",
   "id": "004f7326",
   "metadata": {},
   "source": [
    "### 4. Log File Analysis: You have a log file containing records of user activities on a website. Each line in the file represents a log entry with details like timestamp, user ID, and action performed. Your task is to analyze this log file.\n",
    "\n",
    "a. Write Python code to read the log file and extract specific information, such as the number of unique users or the most common action.\n",
    "\n",
    "b. How would you handle large log files efficiently without loading the entire file into memory?\n"
   ]
  },
  {
   "cell_type": "code",
   "execution_count": null,
   "id": "fa1aa3e3",
   "metadata": {},
   "outputs": [],
   "source": [
    "from collections import Counter\n",
    "\n",
    "def analyze_log(file_name):\n",
    "    try:\n",
    "        unique_users = set()\n",
    "        action_counter = Counter()\n",
    "        \n",
    "        with open(file_name, 'r') as f:\n",
    "            for line in f:\n",
    "                timestamp, user_id, action = line.strip().split(\", \")\n",
    "                \n",
    "               \n",
    "                unique_users.add(user_id)\n",
    "                \n",
    "                \n",
    "                action_counter[action] += 1\n",
    "                \n",
    "        print(f\"Number of unique users: {len(unique_users)}\")\n",
    "        \n",
    "        most_common_action, count = action_counter.most_common(1)[0]\n",
    "        print(f\"The most common action is '{most_common_action}' with {count} occurrences.\")\n",
    "        \n",
    "    except Exception as e:\n",
    "        print(f\"An error occurred: {e}\")\n",
    "\n",
    "if __name__ == \"__main__\":\n",
    "    analyze_log(\"logfile.txt\")\n"
   ]
  },
  {
   "cell_type": "code",
   "execution_count": null,
   "id": "85a9b541",
   "metadata": {},
   "outputs": [],
   "source": [
    "#b. How would you handle large log files efficiently without loading the entire file into memory?\n",
    "\n",
    "#1.Streaming: Instead of reading the entire file into memory, read the file line by line.\n",
    "with open('large_logfile.txt', 'r') as f:\n",
    "    for line in f:\n",
    "        # Process each line\n"
   ]
  },
  {
   "cell_type": "code",
   "execution_count": null,
   "id": "ba9eac33",
   "metadata": {},
   "outputs": [],
   "source": [
    "#2.Batch Processing: You can also read the file in chunks and process each chunk individually.chunk_size = 1024  # 1KB\n",
    "with open('large_logfile.txt', 'r') as f:\n",
    "    while True:\n",
    "        chunk = f.read(chunk_size)\n",
    "        if not chunk:\n",
    "            break\n",
    "        # Process the chunk\n"
   ]
  },
  {
   "cell_type": "code",
   "execution_count": null,
   "id": "19a6dcc3",
   "metadata": {},
   "outputs": [],
   "source": []
  }
 ],
 "metadata": {
  "kernelspec": {
   "display_name": "Python 3 (ipykernel)",
   "language": "python",
   "name": "python3"
  },
  "language_info": {
   "codemirror_mode": {
    "name": "ipython",
    "version": 3
   },
   "file_extension": ".py",
   "mimetype": "text/x-python",
   "name": "python",
   "nbconvert_exporter": "python",
   "pygments_lexer": "ipython3",
   "version": "3.11.4"
  }
 },
 "nbformat": 4,
 "nbformat_minor": 5
}
