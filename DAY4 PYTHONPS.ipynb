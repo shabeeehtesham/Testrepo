{
 "cells": [
  {
   "cell_type": "markdown",
   "id": "c800cff3",
   "metadata": {},
   "source": [
    "# Exceptions and Command-Line Arguments\n"
   ]
  },
  {
   "cell_type": "markdown",
   "id": "0d1845c6",
   "metadata": {},
   "source": [
    "### 1. Write a python program with Exception handling to Input marks for five subjects Chemistry, Biology, Mathematics, and Computer. Calculate the percentage and grade according\n",
    "\n",
    "to the following:\n",
    "\n",
    "i) Percentage >90%: Grade A\n",
    "\n",
    "ii) Percentage >80%: Grade B\n",
    "\n",
    "\n",
    "iii) Percentage >= 70%: Grade C\n",
    "\n",
    "iv) Percentage >= 60%: Grade D\n",
    "\n",
    "v) Percentage >= 40%: Grade E\n",
    "\n",
    "vi) Percentage < 40%: Grade F\n"
   ]
  },
  {
   "cell_type": "code",
   "execution_count": 1,
   "id": "9fff0788",
   "metadata": {},
   "outputs": [
    {
     "name": "stdout",
     "output_type": "stream",
     "text": [
      "Enter Chemistry marks: 111\n",
      "Invalid input. Please enter valid marks as numbers.\n"
     ]
    }
   ],
   "source": [
    "\n",
    "try:\n",
    "    Chemistry = float(input(\"Enter Chemistry marks: \"))\n",
    "    if Chemistry not in range(0, 100) :\n",
    "        raise ValueError\n",
    "    Biology = float(input(\"Enter Biology marks: \"))\n",
    "    if Biology not in range(0, 100) :\n",
    "        raise ValueError \n",
    "    Mathematics = float(input(\"Enter Mathematics marks: \"))\n",
    "    if Mathematics not in range(0, 100) :\n",
    "        raise ValueError \n",
    "    Computer = float(input(\"Enter Computer marks: \"))\n",
    "    if Computer not in range(0, 100) :\n",
    "        raise ValueError \n",
    "    \n",
    "    totalmarks = Chemistry + Biology + Mathematics + Computer\n",
    "    Percentage = (totalmarks/400)*100\n",
    "    \n",
    "    if Percentage > 90:\n",
    "        Grade = \"A\"\n",
    "    elif Percentage >80:\n",
    "        Grade = \"B\"\n",
    "    elif Percentage >= 70:\n",
    "        Grade = \"C\"\n",
    "    elif Percentage >=60:\n",
    "        Grade = \"D\"\n",
    "    elif Percentage >=40:\n",
    "        Grade = \"E\"\n",
    "    else:\n",
    "        Grade = \"F\"\n",
    "        \n",
    "    print(f\"Percentage: {Percentage}%\")\n",
    "    print(f\"Grade: {Grade}\")\n",
    "\n",
    "except ValueError:\n",
    "    print(\"Invalid input. Please enter valid marks as numbers.\")\n",
    "    \n",
    "    "
   ]
  },
  {
   "cell_type": "markdown",
   "id": "676d4a75",
   "metadata": {},
   "source": [
    "### 2. Write a python program with Exception handling to input electricity unit charges and calculate\n",
    "\n",
    "the total electricity bill according to the given condition:\n",
    "\n",
    "i) For the first 50 units Rs. 0.50/unit\n",
    "\n",
    "ii) For the next 100 units Rs. 0.75/unit\n",
    "\n",
    "iii) For the next 100 units Rs. 1.20/unit\n",
    "\n",
    "iv) For units above 250 Rs. 1.50/unit\n",
    "\n",
    "v) An additional surcharge of 20% is added to the bill.\n"
   ]
  },
  {
   "cell_type": "code",
   "execution_count": 5,
   "id": "043932b1",
   "metadata": {},
   "outputs": [
    {
     "name": "stdout",
     "output_type": "stream",
     "text": [
      "Enter the units of electricity consumed:250\n",
      "Tota electricity bill is:360.0\n"
     ]
    }
   ],
   "source": [
    "try:\n",
    "    units = float(input(\"Enter the units of electricity consumed:\"))\n",
    "    \n",
    "                 \n",
    "    if units <= 50:\n",
    "        rate = .50\n",
    "    elif units <= 150:\n",
    "         rate = .75      \n",
    "    elif units <= 250:\n",
    "                 rate = 1.20\n",
    "    else:\n",
    "                 rate = 1.50\n",
    "         \n",
    "    Amount = units * rate \n",
    "    subcharge = Amount * .20\n",
    "    Totalamount = Amount + subcharge\n",
    "    \n",
    "    print(f\"Tota electricity bill is:{Totalamount}\")\n",
    "except ValueError:\n",
    "                  print(\"Invalid input. Please enter valid units as a number.\")\n",
    "                  "
   ]
  },
  {
   "cell_type": "markdown",
   "id": "0b939d1d",
   "metadata": {},
   "source": [
    "### 3. Write a python program with Exception handling to input the week number and print the weekday.\n"
   ]
  },
  {
   "cell_type": "code",
   "execution_count": 8,
   "id": "f951fb68",
   "metadata": {},
   "outputs": [
    {
     "name": "stdout",
     "output_type": "stream",
     "text": [
      "Enter week number: 9\n",
      "Invalid week number. Enter a number between 1 and 7.\n"
     ]
    }
   ],
   "source": [
    "try:\n",
    "    week_number = int(input(\"Enter week number: \"))\n",
    "    \n",
    "    weekdays = [\"Monday\", \"Tuesday\", \"Wednesday\", \"Thursday\", \"Friday\", \"Saturday\", \"Sunday\"]\n",
    "\n",
    "    if 1 <= week_number <= 7:\n",
    "        print(f\"Weekday for week {week_number}: {weekdays[week_number - 1]}\")\n",
    "    else:\n",
    "        raise ValueError\n",
    "      \n",
    "       \n",
    "except ValueError:\n",
    "    print(\"Invalid week number. Enter a number between 1 and 7.\")\n"
   ]
  },
  {
   "cell_type": "markdown",
   "id": "0ec57084",
   "metadata": {},
   "source": [
    "### 5. Write a Python program for finding the most frequent words in a text read from a file.\n",
    "\n",
    "i) Initially open the text file in read mode.\n",
    "\n",
    " ii) Make all the letters in the document into lowercase letters and split the words in each line.\n",
    "\n",
    "iii) Get the words in an order.\n",
    "\n",
    "iv) Son the words for finding the most frequent words in the file.\n",
    "\n"
   ]
  },
  {
   "cell_type": "code",
   "execution_count": 9,
   "id": "ac5e9fd4",
   "metadata": {},
   "outputs": [
    {
     "name": "stdout",
     "output_type": "stream",
     "text": [
      "Enter the name of the text file: src.txt\n",
      "Most frequent words:\n",
      "2: 2\n",
      "deaths: 1\n",
      "in: 1\n",
      "kerala: 1\n",
      "caused: 1\n",
      "by: 1\n",
      "nipah: 1\n",
      "virus,: 1\n",
      "others,: 1\n",
      "incuding: 1\n"
     ]
    }
   ],
   "source": [
    "from collections import Counter\n",
    "\n",
    "try:\n",
    "    filename = input(\"Enter the name of the text file: \")\n",
    "\n",
    "    with open(filename, 'r') as file:\n",
    "        text = file.read().lower()\n",
    "        words = text.split()\n",
    "        word_count = Counter(words)\n",
    "        most_common_words = word_count.most_common(10)  \n",
    "\n",
    "    print(\"Most frequent words:\")\n",
    "    for word, count in most_common_words:\n",
    "        print(f\"{word}: {count}\")\n",
    "except FileNotFoundError:\n",
    "    print(f\"File '{filename}' not found.\")\n",
    "except Exception as e:\n",
    "    print(f\"An error occurred: {e}\")\n"
   ]
  },
  {
   "cell_type": "code",
   "execution_count": null,
   "id": "e61ad786",
   "metadata": {},
   "outputs": [],
   "source": []
  }
 ],
 "metadata": {
  "kernelspec": {
   "display_name": "Python 3 (ipykernel)",
   "language": "python",
   "name": "python3"
  },
  "language_info": {
   "codemirror_mode": {
    "name": "ipython",
    "version": 3
   },
   "file_extension": ".py",
   "mimetype": "text/x-python",
   "name": "python",
   "nbconvert_exporter": "python",
   "pygments_lexer": "ipython3",
   "version": "3.11.4"
  }
 },
 "nbformat": 4,
 "nbformat_minor": 5
}
