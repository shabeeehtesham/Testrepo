{
 "cells": [
  {
   "cell_type": "markdown",
   "id": "6bb6cfa2",
   "metadata": {},
   "source": [
    "### 1. Create a 3x3x3 array with random values"
   ]
  },
  {
   "cell_type": "code",
   "execution_count": 1,
   "id": "3d3770a5",
   "metadata": {},
   "outputs": [],
   "source": [
    "import numpy as np"
   ]
  },
  {
   "cell_type": "code",
   "execution_count": 2,
   "id": "2d371088",
   "metadata": {},
   "outputs": [
    {
     "data": {
      "text/plain": [
       "array([[[0.58329179, 0.94947945, 0.22280689],\n",
       "        [0.54637931, 0.34664688, 0.55086246],\n",
       "        [0.74143691, 0.94339013, 0.62443215]],\n",
       "\n",
       "       [[0.25549627, 0.87174086, 0.71461672],\n",
       "        [0.84502858, 0.99131677, 0.33619891],\n",
       "        [0.21337777, 0.11843032, 0.11220554]],\n",
       "\n",
       "       [[0.42556192, 0.12102602, 0.92891825],\n",
       "        [0.97387205, 0.63756695, 0.07040182],\n",
       "        [0.48106177, 0.28545416, 0.43475747]]])"
      ]
     },
     "execution_count": 2,
     "metadata": {},
     "output_type": "execute_result"
    }
   ],
   "source": [
    "#random no.\n",
    "a= np.random.random((3,3,3))\n",
    "a"
   ]
  },
  {
   "cell_type": "markdown",
   "id": "894485d4",
   "metadata": {},
   "source": [
    "### 2. Create a 5x5 matrix with values 1,2,3,4 just below the diagonal:"
   ]
  },
  {
   "cell_type": "code",
   "execution_count": 3,
   "id": "8d7cab6e",
   "metadata": {},
   "outputs": [
    {
     "name": "stdout",
     "output_type": "stream",
     "text": [
      "[[0 0 0 0 0]\n",
      " [1 0 0 0 0]\n",
      " [0 2 0 0 0]\n",
      " [0 0 3 0 0]\n",
      " [0 0 0 4 0]]\n"
     ]
    }
   ],
   "source": [
    "matrix_5x5 = np.diag([1,2,3,4], k=-1)\n",
    "print(matrix_5x5)\n"
   ]
  },
  {
   "cell_type": "markdown",
   "id": "928d18ae",
   "metadata": {},
   "source": [
    "### 3.Create a 8x8 matrix and fill it with a checkerboard pattern"
   ]
  },
  {
   "cell_type": "code",
   "execution_count": 4,
   "id": "f4421690",
   "metadata": {},
   "outputs": [
    {
     "name": "stdout",
     "output_type": "stream",
     "text": [
      "[[0 1 0 1 0 1 0 1]\n",
      " [1 0 1 0 1 0 1 0]\n",
      " [0 1 0 1 0 1 0 1]\n",
      " [1 0 1 0 1 0 1 0]\n",
      " [0 1 0 1 0 1 0 1]\n",
      " [1 0 1 0 1 0 1 0]\n",
      " [0 1 0 1 0 1 0 1]\n",
      " [1 0 1 0 1 0 1 0]]\n"
     ]
    }
   ],
   "source": [
    "matrix_8x8 = np.zeros((8,8),dtype=int)\n",
    "matrix_8x8[1::2,::2] = 1\n",
    "matrix_8x8[::2,1::2] = 1\n",
    "print(matrix_8x8)"
   ]
  },
  {
   "cell_type": "markdown",
   "id": "8a5590fa",
   "metadata": {},
   "source": [
    "### 4. Normalize a 5x5 random matrix"
   ]
  },
  {
   "cell_type": "code",
   "execution_count": 9,
   "id": "295ea93d",
   "metadata": {},
   "outputs": [
    {
     "name": "stdout",
     "output_type": "stream",
     "text": [
      "[[0.56788117 0.47841301 0.5157562  0.         0.89696784]\n",
      " [0.44214891 0.62703828 0.97669918 0.03750814 0.2319318 ]\n",
      " [0.5588379  0.31751126 0.79209673 0.48039084 0.64113509]\n",
      " [0.03689905 0.56426316 0.39092278 0.12794978 1.        ]\n",
      " [0.6975406  0.57069621 0.79025639 0.73603359 0.56334826]]\n"
     ]
    }
   ],
   "source": [
    "random_matrix = np.random.random((5,5))\n",
    "normalized_matrix = (random_matrix - np.min(random_matrix)) / (np.max(random_matrix) - np.min(random_matrix))\n",
    "print(normalized_matrix)\n"
   ]
  },
  {
   "cell_type": "markdown",
   "id": "c31a4af7",
   "metadata": {},
   "source": [
    "### 5. How to find common values between two arrays?\n"
   ]
  },
  {
   "cell_type": "code",
   "execution_count": 5,
   "id": "34eb4d30",
   "metadata": {},
   "outputs": [
    {
     "name": "stdout",
     "output_type": "stream",
     "text": [
      "[4 5]\n"
     ]
    }
   ],
   "source": [
    "array1 = np.array([1,2,3,4,5])\n",
    "array2 = np.array([4,5,6,7,8])\n",
    "common_values = np.intersect1d(array1, array2)\n",
    "print(common_values)"
   ]
  },
  {
   "cell_type": "markdown",
   "id": "62ac62a1",
   "metadata": {},
   "source": [
    "### 6.How to get the dates of yesterday, today and tomorrow?"
   ]
  },
  {
   "cell_type": "code",
   "execution_count": 8,
   "id": "6927e1b9",
   "metadata": {},
   "outputs": [
    {
     "name": "stdout",
     "output_type": "stream",
     "text": [
      "Yesterday: 2023-09-20\n",
      "Today: 2023-09-21\n",
      "Tomorrow: 2023-09-22\n"
     ]
    }
   ],
   "source": [
    "from datetime import datetime, timedelta\n",
    "\n",
    "today = datetime.today().date()\n",
    "yesterday = today - timedelta(1)\n",
    "tomorrow = today + timedelta(1)\n",
    "\n",
    "print(\"Yesterday:\", yesterday)\n",
    "print(\"Today:\", today)\n",
    "print(\"Tomorrow:\", tomorrow)\n"
   ]
  },
  {
   "cell_type": "markdown",
   "id": "f148c0d3",
   "metadata": {},
   "source": [
    "### 7. Consider two random array A and B, check if they are equal\n"
   ]
  },
  {
   "cell_type": "code",
   "execution_count": 10,
   "id": "7c9b6746",
   "metadata": {},
   "outputs": [
    {
     "name": "stdout",
     "output_type": "stream",
     "text": [
      "False\n"
     ]
    }
   ],
   "source": [
    "A = np.random.rand(5,5)\n",
    "B = np.random.rand(5,5)\n",
    "are_equal = np.array_equal(A, B)\n",
    "print(are_equal)\n"
   ]
  },
  {
   "cell_type": "markdown",
   "id": "da69c675",
   "metadata": {},
   "source": [
    "### 8.Create random vector of size 10 and replace the maximum value by 0\n"
   ]
  },
  {
   "cell_type": "code",
   "execution_count": 13,
   "id": "c07e60ad",
   "metadata": {},
   "outputs": [
    {
     "name": "stdout",
     "output_type": "stream",
     "text": [
      "[0.19734781 0.53239974 0.25902079 0.44959443 0.29319819 0.77458505\n",
      " 0.02758318 0.70907972 0.         0.43703834]\n"
     ]
    }
   ],
   "source": [
    "vector = np.random.rand(10)\n",
    "vector[vector.argmax()] = 0\n",
    "print(vector)"
   ]
  },
  {
   "cell_type": "markdown",
   "id": "36b50f6c",
   "metadata": {},
   "source": [
    "### 9. How to print all the values of an array?\n"
   ]
  },
  {
   "cell_type": "code",
   "execution_count": 14,
   "id": "90fa92cd",
   "metadata": {},
   "outputs": [
    {
     "name": "stdout",
     "output_type": "stream",
     "text": [
      "[1 2 3 4 5 6 7 8 9]\n"
     ]
    }
   ],
   "source": [
    "array = np.array([[1,2,3],[4,5,6],[7,8,9]])\n",
    "print(array.ravel())"
   ]
  },
  {
   "cell_type": "markdown",
   "id": "fe8c5a58",
   "metadata": {},
   "source": [
    "`ravel()` returns a flattened array. Alternatively, you can simply use `print(array)` to print the array in its current shape.\n"
   ]
  },
  {
   "cell_type": "markdown",
   "id": "ff927c1d",
   "metadata": {},
   "source": [
    "### 10.Subtract the mean of each row of a matrix"
   ]
  },
  {
   "cell_type": "code",
   "execution_count": 15,
   "id": "35994ecd",
   "metadata": {},
   "outputs": [
    {
     "name": "stdout",
     "output_type": "stream",
     "text": [
      "[[ 0.35746182 -0.06785539  0.03610815 -0.15551872 -0.17019587]\n",
      " [-0.31347999 -0.22398975  0.53081658  0.15887764 -0.15222448]\n",
      " [-0.26593185  0.32937506  0.08881991 -0.15137728 -0.00088584]\n",
      " [ 0.29795098 -0.01164752 -0.07566942 -0.05274522 -0.15788883]\n",
      " [-0.16087492  0.20141019  0.00665184 -0.23190902  0.18472192]]\n"
     ]
    }
   ],
   "source": [
    "matrix = np.random.rand(5,5)\n",
    "mean_subtracted = matrix - matrix.mean(axis=1, keepdims=True)\n",
    "print(mean_subtracted)"
   ]
  },
  {
   "cell_type": "markdown",
   "id": "e37d911c",
   "metadata": {},
   "source": [
    "### 11.Consider a given vector, how to add 1 to each element indexed by a second vector (be careful with repeated indices)?\n",
    "\n"
   ]
  },
  {
   "cell_type": "code",
   "execution_count": 16,
   "id": "f4163210",
   "metadata": {},
   "outputs": [
    {
     "name": "stdout",
     "output_type": "stream",
     "text": [
      "[ 1  3  3  6  5  7  7  8  9 10]\n"
     ]
    }
   ],
   "source": [
    "vector = np.array([1,2,3,4,5,6,7,8,9,10])\n",
    "indices = np.array([1,3,3,5])\n",
    "np.add.at(vector, indices, 1)\n",
    "print(vector)\n"
   ]
  },
  {
   "cell_type": "markdown",
   "id": "9d8e24de",
   "metadata": {},
   "source": [
    "### 12.How to get the diagonal of a dot product\n"
   ]
  },
  {
   "cell_type": "code",
   "execution_count": 17,
   "id": "59892786",
   "metadata": {},
   "outputs": [
    {
     "name": "stdout",
     "output_type": "stream",
     "text": [
      "[0.7133309  0.4143775  0.79647262]\n"
     ]
    }
   ],
   "source": [
    "A = np.random.rand(3,3)\n",
    "B = np.random.rand(3,3)\n",
    "dot_product = np.dot(A, B)\n",
    "diagonal = np.diag(dot_product)\n",
    "print(diagonal)\n"
   ]
  },
  {
   "cell_type": "code",
   "execution_count": null,
   "id": "b9b32720",
   "metadata": {},
   "outputs": [],
   "source": []
  }
 ],
 "metadata": {
  "kernelspec": {
   "display_name": "Python 3 (ipykernel)",
   "language": "python",
   "name": "python3"
  },
  "language_info": {
   "codemirror_mode": {
    "name": "ipython",
    "version": 3
   },
   "file_extension": ".py",
   "mimetype": "text/x-python",
   "name": "python",
   "nbconvert_exporter": "python",
   "pygments_lexer": "ipython3",
   "version": "3.11.4"
  }
 },
 "nbformat": 4,
 "nbformat_minor": 5
}
