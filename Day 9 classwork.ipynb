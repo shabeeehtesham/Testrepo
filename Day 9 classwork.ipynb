{
 "cells": [
  {
   "cell_type": "code",
   "execution_count": 11,
   "id": "ec653bd7",
   "metadata": {},
   "outputs": [],
   "source": [
    "import numpy as np\n",
    "#Dataset\n",
    "\n",
    "np_olympic_country = np.array([\"GBR\", \"Chine\",\" RUS\", \"US\", \"KOR\",\" JPN\", \"GER\"]) \n",
    "np_olympic_country_gold=np.array([29,38,24,46,13,7,111])\n",
    "\n",
    "np_olympic_country_silver = np.array([17,28,25,28,8,14,11])\n",
    "\n",
    "np_olympic_country_Bronze=np.array([19,22,32,29,7,17,14])\n",
    "\n"
   ]
  },
  {
   "cell_type": "code",
   "execution_count": 12,
   "id": "226dbc58",
   "metadata": {},
   "outputs": [
    {
     "data": {
      "text/plain": [
       "array([19, 22, 32, 29,  7, 17, 14])"
      ]
     },
     "execution_count": 12,
     "metadata": {},
     "output_type": "execute_result"
    }
   ],
   "source": [
    "np_olympic_country_Bronze"
   ]
  },
  {
   "cell_type": "markdown",
   "id": "a81f676d",
   "metadata": {},
   "source": [
    "### 1.find the country index with maximum gold?"
   ]
  },
  {
   "cell_type": "code",
   "execution_count": 13,
   "id": "f8cf0ecf",
   "metadata": {},
   "outputs": [
    {
     "data": {
      "text/plain": [
       "6"
      ]
     },
     "execution_count": 13,
     "metadata": {},
     "output_type": "execute_result"
    }
   ],
   "source": [
    "np_olympic_country_maxgold= np_olympic_country_gold.argmax()\n",
    "np_olympic_country_maxgold"
   ]
  },
  {
   "cell_type": "markdown",
   "id": "069ff0a1",
   "metadata": {},
   "source": [
    "### 2. Print Country with Maximum gold?"
   ]
  },
  {
   "cell_type": "code",
   "execution_count": 14,
   "id": "d775f91c",
   "metadata": {},
   "outputs": [
    {
     "data": {
      "text/plain": [
       "'GER'"
      ]
     },
     "execution_count": 14,
     "metadata": {},
     "output_type": "execute_result"
    }
   ],
   "source": [
    "np_olympic_country_maxgold = np_olympic_country[np_olympic_country_maxgold]\n",
    "np_olympic_country_maxgold"
   ]
  },
  {
   "cell_type": "markdown",
   "id": "68e9b5a8",
   "metadata": {},
   "source": [
    "### 3. Find countries with more than 20 gold medals?\n"
   ]
  },
  {
   "cell_type": "code",
   "execution_count": 17,
   "id": "fb885e87",
   "metadata": {},
   "outputs": [
    {
     "data": {
      "text/plain": [
       "array(['GBR', 'Chine', ' RUS', 'US', 'GER'], dtype='<U5')"
      ]
     },
     "execution_count": 17,
     "metadata": {},
     "output_type": "execute_result"
    }
   ],
   "source": [
    "\n",
    "np_olympic_country[np_olympic_country_gold > 20] \n",
    "        "
   ]
  },
  {
   "cell_type": "markdown",
   "id": "8b0b6d66",
   "metadata": {},
   "source": [
    "### 4. Evaluate the dataset and print the medal:\n",
    "\n",
    "   1. print each country name with number of gold medals\n",
    "\n",
    "   2. print each country male with total number of medals\n"
   ]
  },
  {
   "cell_type": "code",
   "execution_count": 18,
   "id": "a378512a",
   "metadata": {},
   "outputs": [
    {
     "name": "stdout",
     "output_type": "stream",
     "text": [
      "4.1 GBR: 29 gold medals\n",
      "4.1 Chine: 38 gold medals\n",
      "4.1  RUS: 24 gold medals\n",
      "4.1 US: 46 gold medals\n",
      "4.1 KOR: 13 gold medals\n",
      "4.1  JPN: 7 gold medals\n",
      "4.1 GER: 111 gold medals\n"
     ]
    }
   ],
   "source": [
    "#1.print each country name with number of gold medals\n",
    "for country, gold in zip(np_olympic_country, np_olympic_country_gold):\n",
    "    print(f\"4.1 {country}: {gold} gold medals\")\n"
   ]
  },
  {
   "cell_type": "code",
   "execution_count": 19,
   "id": "3fb8cc69",
   "metadata": {},
   "outputs": [
    {
     "name": "stdout",
     "output_type": "stream",
     "text": [
      "4.2 GBR: 65 total medals\n",
      "4.2 Chine: 88 total medals\n",
      "4.2  RUS: 81 total medals\n",
      "4.2 US: 103 total medals\n",
      "4.2 KOR: 28 total medals\n",
      "4.2  JPN: 38 total medals\n",
      "4.2 GER: 136 total medals\n"
     ]
    }
   ],
   "source": [
    "#2.print each country male with total number of medals\n",
    "total_medals = np_olympic_country_gold + np_olympic_country_silver + np_olympic_country_Bronze\n",
    "for country, total in zip(np_olympic_country, total_medals):\n",
    "    print(f\"4.2 {country}: {total} total medals\")\n"
   ]
  },
  {
   "cell_type": "code",
   "execution_count": null,
   "id": "44f90bf3",
   "metadata": {},
   "outputs": [],
   "source": []
  }
 ],
 "metadata": {
  "kernelspec": {
   "display_name": "Python 3 (ipykernel)",
   "language": "python",
   "name": "python3"
  },
  "language_info": {
   "codemirror_mode": {
    "name": "ipython",
    "version": 3
   },
   "file_extension": ".py",
   "mimetype": "text/x-python",
   "name": "python",
   "nbconvert_exporter": "python",
   "pygments_lexer": "ipython3",
   "version": "3.11.4"
  }
 },
 "nbformat": 4,
 "nbformat_minor": 5
}
