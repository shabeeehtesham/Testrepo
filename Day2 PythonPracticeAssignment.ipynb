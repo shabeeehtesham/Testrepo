{
 "cells": [
  {
   "cell_type": "markdown",
   "id": "b3b3a374",
   "metadata": {},
   "source": [
    "# Functions"
   ]
  },
  {
   "cell_type": "markdown",
   "id": "82b8964e",
   "metadata": {},
   "source": [
    "### 1. Write a python Function to list even and odd numbers in a list.\n"
   ]
  },
  {
   "cell_type": "code",
   "execution_count": 1,
   "id": "14cff9c0",
   "metadata": {},
   "outputs": [
    {
     "name": "stdout",
     "output_type": "stream",
     "text": [
      "Even numbers: [2, 4, 6, 8]\n",
      "Odd numbers: [1, 3, 5, 7, 9]\n"
     ]
    }
   ],
   "source": [
    "def even_and_odd_numbers(numbers):\n",
    "    even_numbers = []\n",
    "    odd_numbers = []\n",
    "\n",
    "    for num in numbers:\n",
    "        if num % 2 == 0:\n",
    "            even_numbers.append(num)\n",
    "        else:\n",
    "            odd_numbers.append(num)\n",
    "\n",
    "    return even_numbers, odd_numbers\n",
    "\n",
    "numbers = [1, 2, 3, 4, 5, 6, 7, 8, 9]\n",
    "even, odd = even_and_odd_numbers(numbers)\n",
    "print(\"Even numbers:\", even)\n",
    "print(\"Odd numbers:\", odd)"
   ]
  },
  {
   "cell_type": "markdown",
   "id": "e48d51ed",
   "metadata": {},
   "source": [
    "### 2. Write and run a Python program that asks the user to enter 8 integers (one at a time), and then prints out how many of those integers were even numbers. For example, if the user entered 19, 6, 9, 20, 13, 7, 6, and 1, then your program should print out 3 since 3 of those numbers were even."
   ]
  },
  {
   "cell_type": "code",
   "execution_count": 2,
   "id": "42115182",
   "metadata": {},
   "outputs": [
    {
     "name": "stdout",
     "output_type": "stream",
     "text": [
      "Enter integer 1: 2\n",
      "Enter integer 2: 5\n",
      "Enter integer 3: 2\n",
      "Enter integer 4: 1\n",
      "Enter integer 5: 7\n",
      "Enter integer 6: 8\n",
      "Enter integer 7: 4\n",
      "Enter integer 8: 3\n",
      "Number of even numbers entered: 4\n"
     ]
    }
   ],
   "source": [
    "even_count = 0\n",
    "\n",
    "for i in range(8):\n",
    "    try:\n",
    "        num = int(input(f\"Enter integer {i + 1}: \"))\n",
    "        if num % 2 == 0:\n",
    "            even_count += 1\n",
    "    except ValueError:\n",
    "        print(\"Invalid input. Please enter an integer.\")\n",
    "\n",
    "print(f\"Number of even numbers entered: {even_count}\")\n"
   ]
  },
  {
   "cell_type": "markdown",
   "id": "0a64e576",
   "metadata": {},
   "source": [
    "### 3. Write a Python program where you take any positive integer n, if n is even, divide it by 2 to get n/ 2. If n is odd, multiply it by 3 and add 1 to obtain 3n+ 1. Repeat the process until you reach 1.\n"
   ]
  },
  {
   "cell_type": "code",
   "execution_count": 4,
   "id": "28142983",
   "metadata": {},
   "outputs": [
    {
     "name": "stdout",
     "output_type": "stream",
     "text": [
      "Enter a positive integer: 67\n",
      "Evento1: [67, 202, 101, 304, 152, 76, 38, 19, 58, 29, 88, 44, 22, 11, 34, 17, 52, 26, 13, 40, 20, 10, 5, 16, 8, 4, 2, 1]\n"
     ]
    }
   ],
   "source": [
    "def Evento1(n):\n",
    "    sequence = [n]\n",
    "    while n != 1:\n",
    "        if n % 2 == 0:\n",
    "            n = n // 2\n",
    "        else:\n",
    "            n = 3 * n + 1\n",
    "        sequence.append(n)\n",
    "    return sequence\n",
    "\n",
    "\n",
    "n = int(input(\"Enter a positive integer: \"))\n",
    "sequence = Evento1(n)\n",
    "print(\"Evento1:\", sequence)\n"
   ]
  },
  {
   "cell_type": "markdown",
   "id": "c8394219",
   "metadata": {},
   "source": [
    "### 4. Write a Python program to compute the sum of all the multiples of 3 or 5 below 500.\n"
   ]
  },
  {
   "cell_type": "code",
   "execution_count": 5,
   "id": "681641ee",
   "metadata": {},
   "outputs": [
    {
     "name": "stdout",
     "output_type": "stream",
     "text": [
      "Sum of multiples of 3 or 5 below 500: 57918\n"
     ]
    }
   ],
   "source": [
    "def sum_multiples_3_or_5(limit):\n",
    "    total_sum = 0\n",
    "    for num in range(limit):\n",
    "        if num % 3 == 0 or num % 5 == 0:\n",
    "            total_sum += num\n",
    "    return total_sum\n",
    "\n",
    "limit = 500\n",
    "result = sum_multiples_3_or_5(limit)\n",
    "print(\"Sum of multiples of 3 or 5 below 500:\", result)\n"
   ]
  },
  {
   "cell_type": "markdown",
   "id": "356a80ad",
   "metadata": {},
   "source": [
    "### 5. To write a Python program to find first 'n' prime numbers from a list of given numbers."
   ]
  },
  {
   "cell_type": "code",
   "execution_count": 6,
   "id": "477f87f4",
   "metadata": {},
   "outputs": [
    {
     "name": "stdout",
     "output_type": "stream",
     "text": [
      "Enter the value of n: 50\n",
      "First 50 prime numbers: [2, 3, 5, 7, 11, 13, 17, 19, 23, 29, 31, 37, 41, 43, 47, 53, 59, 61, 67, 71, 73, 79, 83, 89, 97, 101, 103, 107, 109, 113, 127, 131, 137, 139, 149, 151, 157, 163, 167, 173, 179, 181, 191, 193, 197, 199, 211, 223, 227, 229]\n"
     ]
    }
   ],
   "source": [
    "def is_prime(num):\n",
    "    if num <= 1:\n",
    "        return False\n",
    "    for i in range(2, int(num ** 0.5) + 1):\n",
    "        if num % i == 0:\n",
    "            return False\n",
    "    return True\n",
    "\n",
    "def find_n_primes(n):\n",
    "    primes = []\n",
    "    num = 2\n",
    "    while len(primes) < n:\n",
    "        if is_prime(num):\n",
    "            primes.append(num)\n",
    "        num += 1\n",
    "    return primes\n",
    "\n",
    "n = int(input(\"Enter the value of n: \"))\n",
    "prime_numbers = find_n_primes(n)\n",
    "print(f\"First {n} prime numbers:\", prime_numbers)\n"
   ]
  },
  {
   "cell_type": "markdown",
   "id": "e58dd401",
   "metadata": {},
   "source": [
    "### 6. To write a Python program to compute matrix multiplication. "
   ]
  },
  {
   "cell_type": "code",
   "execution_count": 7,
   "id": "8a4c3fd7",
   "metadata": {},
   "outputs": [
    {
     "name": "stdout",
     "output_type": "stream",
     "text": [
      "[58, 64]\n",
      "[139, 154]\n"
     ]
    }
   ],
   "source": [
    "def matrix_multiply(A, B):\n",
    "    result = [[0 for _ in range(len(B[0]))] for _ in range(len(A))]\n",
    "    for i in range(len(A)):\n",
    "        for j in range(len(B[0])):\n",
    "            for k in range(len(B)):\n",
    "                result[i][j] += A[i][k] * B[k][j]\n",
    "    return result\n",
    "\n",
    "matrix1 = [[1, 2, 3], [4, 5, 6]]\n",
    "matrix2 = [[7, 8], [9, 10], [11, 12]]\n",
    "result = matrix_multiply(matrix1, matrix2)\n",
    "for row in result:\n",
    "    print(row)\n"
   ]
  },
  {
   "cell_type": "markdown",
   "id": "35f98eb5",
   "metadata": {},
   "source": [
    "### 7. Write a python Function to count the number of vowels In a string.\n"
   ]
  },
  {
   "cell_type": "code",
   "execution_count": 8,
   "id": "c70d8aa0",
   "metadata": {},
   "outputs": [
    {
     "name": "stdout",
     "output_type": "stream",
     "text": [
      "Enter a string: This sentence is incomplete without vowels\n",
      "Number of vowels: 14\n"
     ]
    }
   ],
   "source": [
    "def count_vowels(string):\n",
    "    vowels = \"AEIOUaeiou\"\n",
    "    count = 0\n",
    "    for char in string:\n",
    "        if char in vowels:\n",
    "            count += 1\n",
    "    return count\n",
    "\n",
    "text = input(\"Enter a string: \")\n",
    "vowel_count = count_vowels(text)\n",
    "print(\"Number of vowels:\", vowel_count)"
   ]
  },
  {
   "cell_type": "markdown",
   "id": "9cf64056",
   "metadata": {},
   "source": [
    "### 8. Write a python Function for finding factorial for the given number using a recursive function."
   ]
  },
  {
   "cell_type": "code",
   "execution_count": 9,
   "id": "360cfd8f",
   "metadata": {},
   "outputs": [
    {
     "name": "stdout",
     "output_type": "stream",
     "text": [
      "Enter a non-negative integer: 9\n",
      "9! = 362880\n"
     ]
    }
   ],
   "source": [
    "def factorial_recursive(n):\n",
    "    if n == 0:\n",
    "        return 1\n",
    "    else:\n",
    "        return n * factorial_recursive(n - 1)\n",
    "\n",
    "\n",
    "n = int(input(\"Enter a non-negative integer: \"))\n",
    "result = factorial_recursive(n)\n",
    "print(f\"{n}! =\", result)"
   ]
  },
  {
   "cell_type": "markdown",
   "id": "fb6f17a0",
   "metadata": {},
   "source": [
    "### 9. Write a python Function for generating the Fibonacci series using the function."
   ]
  },
  {
   "cell_type": "code",
   "execution_count": 10,
   "id": "774a7232",
   "metadata": {},
   "outputs": [
    {
     "name": "stdout",
     "output_type": "stream",
     "text": [
      "Enter the number of Fibonacci numbers to generate: 10\n",
      "Fibonacci series: [0, 1, 1, 2, 3, 5, 8, 13, 21, 34]\n"
     ]
    }
   ],
   "source": [
    "def fibonacci(n):\n",
    "    fib_series = [0, 1]\n",
    "    while len(fib_series) < n:\n",
    "        next_num = fib_series[-1] + fib_series[-2]\n",
    "        fib_series.append(next_num)\n",
    "    return fib_series\n",
    "\n",
    "n = int(input(\"Enter the number of Fibonacci numbers to generate: \"))\n",
    "fib_numbers = fibonacci(n)\n",
    "print(\"Fibonacci series:\", fib_numbers)\n"
   ]
  },
  {
   "cell_type": "markdown",
   "id": "5a52113b",
   "metadata": {},
   "source": [
    "### 10. Python program to display the given integer in reverse order using the function without an In-built function."
   ]
  },
  {
   "cell_type": "code",
   "execution_count": 11,
   "id": "06091110",
   "metadata": {},
   "outputs": [
    {
     "name": "stdout",
     "output_type": "stream",
     "text": [
      "Enter an integer: 56\n",
      "Reversed integer: 65\n"
     ]
    }
   ],
   "source": [
    "def reverse_integer(num):\n",
    "    reversed_num = 0\n",
    "    while num > 0:\n",
    "        digit = num % 10\n",
    "        reversed_num = reversed_num * 10 + digit\n",
    "        num = num // 10\n",
    "    return reversed_num\n",
    "\n",
    "num = int(input(\"Enter an integer: \"))\n",
    "reversed_num = reverse_integer(num)\n",
    "print(\"Reversed integer:\", reversed_num)"
   ]
  },
  {
   "cell_type": "markdown",
   "id": "92b8d23e",
   "metadata": {},
   "source": [
    "### 11. Write a Python Function to display all integers within the range 200-300 whose sum of digits is an even number."
   ]
  },
  {
   "cell_type": "code",
   "execution_count": 12,
   "id": "e7f77401",
   "metadata": {},
   "outputs": [
    {
     "name": "stdout",
     "output_type": "stream",
     "text": [
      "Integers in the range [200-300] with even sum of digits:\n",
      "200\n",
      "202\n",
      "204\n",
      "206\n",
      "208\n",
      "211\n",
      "213\n",
      "215\n",
      "217\n",
      "219\n",
      "220\n",
      "222\n",
      "224\n",
      "226\n",
      "228\n",
      "231\n",
      "233\n",
      "235\n",
      "237\n",
      "239\n",
      "240\n",
      "242\n",
      "244\n",
      "246\n",
      "248\n",
      "251\n",
      "253\n",
      "255\n",
      "257\n",
      "259\n",
      "260\n",
      "262\n",
      "264\n",
      "266\n",
      "268\n",
      "271\n",
      "273\n",
      "275\n",
      "277\n",
      "279\n",
      "280\n",
      "282\n",
      "284\n",
      "286\n",
      "288\n",
      "291\n",
      "293\n",
      "295\n",
      "297\n",
      "299\n"
     ]
    }
   ],
   "source": [
    "def sum_of_digits(num):\n",
    "    total = 0\n",
    "    while num > 0:\n",
    "        total += num % 10\n",
    "        num //= 10\n",
    "    return total\n",
    "\n",
    "def display_integers_with_even_sum():\n",
    "    for num in range(200, 301):\n",
    "        if sum_of_digits(num) % 2 == 0:\n",
    "            print(num)\n",
    "\n",
    "print(\"Integers in the range [200-300] with even sum of digits:\")\n",
    "display_integers_with_even_sum()\n"
   ]
  },
  {
   "cell_type": "markdown",
   "id": "6af01df3",
   "metadata": {},
   "source": [
    "### 12. Write a python Function to find the number of digits and sum of digits for a given integer.\n"
   ]
  },
  {
   "cell_type": "code",
   "execution_count": 13,
   "id": "e65b73c5",
   "metadata": {
    "scrolled": true
   },
   "outputs": [
    {
     "name": "stdout",
     "output_type": "stream",
     "text": [
      "Enter an integer: 56\n",
      "Number of digits: 2\n",
      "Sum of digits: 11\n"
     ]
    }
   ],
   "source": [
    "def count_and_sum_digits(num):\n",
    "    count = 0\n",
    "    digit_sum = 0\n",
    "    while num > 0:\n",
    "        digit = num % 10\n",
    "        count += 1\n",
    "        digit_sum += digit\n",
    "        num //= 10\n",
    "    return count, digit_sum\n",
    "\n",
    "num = int(input(\"Enter an integer: \"))\n",
    "count, digit_sum = count_and_sum_digits(num)\n",
    "print(f\"Number of digits: {count}\")\n",
    "print(f\"Sum of digits: {digit_sum}\")\n"
   ]
  },
  {
   "cell_type": "markdown",
   "id": "5a87f917",
   "metadata": {},
   "source": [
    "### 13. Write functions called is sorted that takes a list as a parameter and returns True if the list is sorted in ascending order and False otherwise and has duplicates that takes a list and returns True if there is any element that appears more than once. It should not modify the original list."
   ]
  },
  {
   "cell_type": "code",
   "execution_count": 14,
   "id": "926772eb",
   "metadata": {},
   "outputs": [
    {
     "name": "stdout",
     "output_type": "stream",
     "text": [
      "List is sorted: True\n",
      "List has duplicates: True\n"
     ]
    }
   ],
   "source": [
    "def is_sorted(lst):\n",
    "    return all(lst[i] <= lst[i + 1] for i in range(len(lst) - 1))\n",
    "\n",
    "def has_duplicates(lst):\n",
    "    seen = set()\n",
    "    for item in lst:\n",
    "        if item in seen:\n",
    "            return True\n",
    "        seen.add(item)\n",
    "    return False\n",
    "numbers = [1, 2, 3, 3, 4, 5]\n",
    "sorted_status = is_sorted(numbers)\n",
    "duplicate_status = has_duplicates(numbers)\n",
    "print(f\"List is sorted: {sorted_status}\")\n",
    "print(f\"List has duplicates: {duplicate_status}\")\n"
   ]
  },
  {
   "cell_type": "markdown",
   "id": "c0920faf",
   "metadata": {},
   "source": [
    "### 14. Write functions called nested sum that takes a list of integers and adds up the elements from all the nested lists and cumsum that takes a list of numbers and returns the cumulative sum; that is, a new list where the element is the sum of the first i + 1 elements from the original list."
   ]
  },
  {
   "cell_type": "code",
   "execution_count": 15,
   "id": "dc6339d1",
   "metadata": {},
   "outputs": [
    {
     "name": "stdout",
     "output_type": "stream",
     "text": [
      "Nested list sum: 36\n",
      "Cumulative sum: [1, 3, 6, 10, 15]\n"
     ]
    }
   ],
   "source": [
    "def nested_sum(lst):\n",
    "    total = 0\n",
    "    for sublist in lst:\n",
    "        total += sum(sublist)\n",
    "    return total\n",
    "\n",
    "def cumsum(lst):\n",
    "    cumulative_sum = []\n",
    "    total = 0\n",
    "    for num in lst:\n",
    "        total += num\n",
    "        cumulative_sum.append(total)\n",
    "    return cumulative_sum\n",
    "\n",
    "nested_list = [[1, 2, 3], [4, 5], [6, 7, 8]]\n",
    "cumulative_result = cumsum([1, 2, 3, 4, 5])\n",
    "print(\"Nested list sum:\", nested_sum(nested_list))\n",
    "print(\"Cumulative sum:\", cumulative_result)\n"
   ]
  },
  {
   "cell_type": "code",
   "execution_count": null,
   "id": "480474de",
   "metadata": {},
   "outputs": [],
   "source": []
  }
 ],
 "metadata": {
  "kernelspec": {
   "display_name": "Python 3 (ipykernel)",
   "language": "python",
   "name": "python3"
  },
  "language_info": {
   "codemirror_mode": {
    "name": "ipython",
    "version": 3
   },
   "file_extension": ".py",
   "mimetype": "text/x-python",
   "name": "python",
   "nbconvert_exporter": "python",
   "pygments_lexer": "ipython3",
   "version": "3.11.4"
  }
 },
 "nbformat": 4,
 "nbformat_minor": 5
}
