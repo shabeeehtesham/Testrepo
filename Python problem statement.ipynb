{
 "cells": [
  {
   "cell_type": "markdown",
   "id": "f4a90832",
   "metadata": {},
   "source": [
    "# Manipulate using a list.\n",
    "\n",
    "i) To add new elements to the end of the list\n",
    "\n",
    "ii) To reverse elements in the list\n",
    "\n",
    "iii)To display the same list of elements multiple times.\n",
    "\n",
    "iv) To concatenate two list\n",
    "\n",
    "v) To sort the elements in the list in ascending order."
   ]
  },
  {
   "cell_type": "code",
   "execution_count": 2,
   "id": "a6451c37",
   "metadata": {},
   "outputs": [
    {
     "name": "stdout",
     "output_type": "stream",
     "text": [
      "['white', 'blue', 'green', 'orange']\n"
     ]
    }
   ],
   "source": [
    "mylist = [\"white\", \"blue\", \"green\"]\n",
    "mylist.append(\"orange\")\n",
    "print(mylist)"
   ]
  },
  {
   "cell_type": "code",
   "execution_count": 3,
   "id": "3d9fee22",
   "metadata": {},
   "outputs": [
    {
     "name": "stdout",
     "output_type": "stream",
     "text": [
      "Reversed list: ['orange', 'green', 'blue', 'white']\n"
     ]
    }
   ],
   "source": [
    "mylist.reverse()\n",
    "print('Reversed list:', mylist)"
   ]
  },
  {
   "cell_type": "code",
   "execution_count": 4,
   "id": "0cc12ce5",
   "metadata": {},
   "outputs": [
    {
     "name": "stdout",
     "output_type": "stream",
     "text": [
      "['orange', 'green', 'blue', 'white', 'orange', 'green', 'blue', 'white', 'orange', 'green', 'blue', 'white']\n"
     ]
    }
   ],
   "source": [
    "mylist = mylist * 3\n",
    "print(mylist)"
   ]
  },
  {
   "cell_type": "code",
   "execution_count": 6,
   "id": "0133b337",
   "metadata": {},
   "outputs": [
    {
     "name": "stdout",
     "output_type": "stream",
     "text": [
      "[1, 2, 3, 4, 5, 6]\n"
     ]
    }
   ],
   "source": [
    "#iv) To concatenate two list\n",
    "list1 = [1, 2, 3]\n",
    "list2 = [4, 5, 6]\n",
    "concatenated_list = list1 + list2\n",
    "print(concatenated_list)"
   ]
  },
  {
   "cell_type": "code",
   "execution_count": 7,
   "id": "24388fde",
   "metadata": {},
   "outputs": [
    {
     "name": "stdout",
     "output_type": "stream",
     "text": [
      "[1, 2, 3]\n"
     ]
    }
   ],
   "source": [
    "#v) To sort the elements in the list in ascending order.\n",
    "my_list = [3, 1, 2]\n",
    "my_list.sort()\n",
    "print(my_list)"
   ]
  },
  {
   "cell_type": "markdown",
   "id": "4656cfe0",
   "metadata": {},
   "source": [
    "# 2. Write a Python program to do in the tuples.\n",
    "\n",
    "i) Manipulate using tuples.\n",
    "\n",
    "ii) To add new elements to the end of the tuples\n",
    "\n",
    "iii) To reverse elements in the list\n",
    "\n",
    "iv) To display the elements of the same tuple multiple times.\n",
    "\n",
    "v) To concatenate two tuples\n",
    "\n",
    "vi) To sort the elements in the list in ascending order.\n"
   ]
  },
  {
   "cell_type": "code",
   "execution_count": 8,
   "id": "03fd62bf",
   "metadata": {},
   "outputs": [],
   "source": [
    "##i) Manipulate using tuples.\n",
    "#Tuples are immutable, so you can't directly manipulate them. You need to create new tuples with the desired changes."
   ]
  },
  {
   "cell_type": "code",
   "execution_count": 9,
   "id": "2867541b",
   "metadata": {},
   "outputs": [
    {
     "name": "stdout",
     "output_type": "stream",
     "text": [
      "(1, 2, 3, 4, 5)\n"
     ]
    }
   ],
   "source": [
    "#ii) To add new elements to the end of the tuples\n",
    "my_tuple = (1, 2, 3)\n",
    "new_tuple = my_tuple + (4, 5)\n",
    "print(new_tuple)"
   ]
  },
  {
   "cell_type": "code",
   "execution_count": 10,
   "id": "d867488f",
   "metadata": {},
   "outputs": [
    {
     "name": "stdout",
     "output_type": "stream",
     "text": [
      "(3, 2, 1)\n"
     ]
    }
   ],
   "source": [
    "#iii) To reverse elements in the list\n",
    "my_tuple = (1, 2, 3)\n",
    "reversed_tuple = my_tuple[::-1]\n",
    "print(reversed_tuple)"
   ]
  },
  {
   "cell_type": "code",
   "execution_count": 11,
   "id": "8245304f",
   "metadata": {},
   "outputs": [
    {
     "name": "stdout",
     "output_type": "stream",
     "text": [
      "(1, 2, 3, 1, 2, 3, 1, 2, 3)\n"
     ]
    }
   ],
   "source": [
    "#iv) To display the elements of the same tuple multiple times.\n",
    "my_tuple = (1, 2, 3)\n",
    "new_tuple = my_tuple * 3\n",
    "print(new_tuple)"
   ]
  },
  {
   "cell_type": "code",
   "execution_count": 12,
   "id": "99e25602",
   "metadata": {},
   "outputs": [],
   "source": [
    "#v) To concatenate two tuples\n",
    "tuple1 = (1, 2, 3)\n",
    "tuple2 = (4, 5, 6)\n",
    "concatenated_tuple = tuple1 + tuple2\n"
   ]
  },
  {
   "cell_type": "code",
   "execution_count": 13,
   "id": "8ffad782",
   "metadata": {},
   "outputs": [
    {
     "name": "stdout",
     "output_type": "stream",
     "text": [
      "(1, 2, 3, 4, 5, 6)\n"
     ]
    }
   ],
   "source": [
    "print(concatenated_tuple)"
   ]
  },
  {
   "cell_type": "code",
   "execution_count": 14,
   "id": "a1a14a76",
   "metadata": {},
   "outputs": [
    {
     "data": {
      "text/plain": [
       "(3, 1, 2)"
      ]
     },
     "execution_count": 14,
     "metadata": {},
     "output_type": "execute_result"
    }
   ],
   "source": [
    "#vi) To sort the elements in the list in ascending order.\n",
    "my_tuple = (3, 1, 2)\n",
    "sorted\n",
    "my_tuple\n"
   ]
  },
  {
   "cell_type": "code",
   "execution_count": 16,
   "id": "8956708e",
   "metadata": {},
   "outputs": [
    {
     "data": {
      "text/plain": [
       "[1, 2, 3]"
      ]
     },
     "execution_count": 16,
     "metadata": {},
     "output_type": "execute_result"
    }
   ],
   "source": [
    "sorted(my_tuple)"
   ]
  },
  {
   "cell_type": "markdown",
   "id": "ad5b523a",
   "metadata": {},
   "source": [
    "# 3. Write a python program to implement the following using list.\n",
    "\n",
    "i) Create a list with integers (minimum 10 numbers)\n",
    "\n",
    "ii) How to display the last number in the list\n",
    "\n",
    "iii) Command for displaying the values from the list [0:4]\n",
    "\n",
    "iv) Command for displaying the values from the list [2:]\n",
    "\n",
    "v) Command for displaying the values from the list [6]"
   ]
  },
  {
   "cell_type": "code",
   "execution_count": 17,
   "id": "2252d996",
   "metadata": {},
   "outputs": [],
   "source": [
    "#i)Create a list with integers (minimum 10 numbers)\n",
    "my_list = [1, 2, 3, 4, 5, 6, 7, 8, 9, 10]\n"
   ]
  },
  {
   "cell_type": "code",
   "execution_count": 18,
   "id": "a56e0ebe",
   "metadata": {},
   "outputs": [
    {
     "name": "stdout",
     "output_type": "stream",
     "text": [
      "Last number in the list: 10\n"
     ]
    }
   ],
   "source": [
    "#ii) How to display the last number in the list\n",
    "last_number = my_list[-1]\n",
    "print(\"Last number in the list:\", last_number)"
   ]
  },
  {
   "cell_type": "code",
   "execution_count": 19,
   "id": "7bd471ba",
   "metadata": {},
   "outputs": [
    {
     "name": "stdout",
     "output_type": "stream",
     "text": [
      "Values from index 0 to 3: [1, 2, 3, 4]\n"
     ]
    }
   ],
   "source": [
    "#iii) Command for displaying the values from the list [0:4]\n",
    "slice1 = my_list[0:4]\n",
    "print(\"Values from index 0 to 3:\", slice1)"
   ]
  },
  {
   "cell_type": "code",
   "execution_count": 20,
   "id": "903e9b43",
   "metadata": {},
   "outputs": [
    {
     "name": "stdout",
     "output_type": "stream",
     "text": [
      "Values from index 2 to the end: [3, 4, 5, 6, 7, 8, 9, 10]\n"
     ]
    }
   ],
   "source": [
    "#iv) Command for displaying the values from the list [2:]\n",
    "slice2 = my_list[2:]\n",
    "print(\"Values from index 2 to the end:\", slice2)"
   ]
  },
  {
   "cell_type": "code",
   "execution_count": 22,
   "id": "923b6b4e",
   "metadata": {},
   "outputs": [
    {
     "name": "stdout",
     "output_type": "stream",
     "text": [
      "Value at index 6: 7\n"
     ]
    }
   ],
   "source": [
    "#v) Command for displaying the values from the list [6]\n",
    "value_at_index_6 = my_list[6]\n",
    "print(\"Value at index 6:\", value_at_index_6)"
   ]
  },
  {
   "cell_type": "markdown",
   "id": "a171ed06",
   "metadata": {},
   "source": [
    "# 4. Write a Python program: tuple1 = (10,50,20,40,30)\n",
    "\n",
    "i.To display the elements 10 and 50 from tuple1\n",
    "\n",
    "ii. To display the length of a tuple1.\n",
    "\n",
    "iii. To find the minimum element from tuple1.\n",
    "\n",
    "iv. To add all elements in the tuple1.\n",
    "\n",
    "v. To display the same tuple1 multiple times.\n"
   ]
  },
  {
   "cell_type": "code",
   "execution_count": 24,
   "id": "e1ff9a5f",
   "metadata": {},
   "outputs": [
    {
     "name": "stdout",
     "output_type": "stream",
     "text": [
      "Elements 10 and 50: 10 50\n"
     ]
    }
   ],
   "source": [
    "#i.To display the elements 10 and 50 from tuple1\n",
    "tuple1 = (10, 50, 20, 40, 30)\n",
    "element_1 = tuple1[0]\n",
    "element_2 = tuple1[1]\n",
    "print(\"Elements 10 and 50:\", element_1, element_2)"
   ]
  },
  {
   "cell_type": "code",
   "execution_count": 25,
   "id": "17190cb2",
   "metadata": {},
   "outputs": [
    {
     "name": "stdout",
     "output_type": "stream",
     "text": [
      "Length of tuple1: 5\n"
     ]
    }
   ],
   "source": [
    "#ii. To display the length of a tuple1.\n",
    "length_of_tuple1 = len(tuple1)\n",
    "print(\"Length of tuple1:\", length_of_tuple1)"
   ]
  },
  {
   "cell_type": "code",
   "execution_count": 26,
   "id": "8a054cdb",
   "metadata": {},
   "outputs": [
    {
     "name": "stdout",
     "output_type": "stream",
     "text": [
      "Minimum element in tuple1: 10\n"
     ]
    }
   ],
   "source": [
    "#iii. To find the minimum element from tuple1.\n",
    "min_element = min(tuple1)\n",
    "print(\"Minimum element in tuple1:\", min_element)"
   ]
  },
  {
   "cell_type": "code",
   "execution_count": 27,
   "id": "74a89c80",
   "metadata": {},
   "outputs": [
    {
     "name": "stdout",
     "output_type": "stream",
     "text": [
      "Sum of elements in tuple1: 150\n"
     ]
    }
   ],
   "source": [
    "# iv. Add all elements in tuple1\n",
    "sum_of_elements = sum(tuple1)\n",
    "print(\"Sum of elements in tuple1:\", sum_of_elements)"
   ]
  },
  {
   "cell_type": "code",
   "execution_count": 28,
   "id": "7e8fac70",
   "metadata": {},
   "outputs": [
    {
     "name": "stdout",
     "output_type": "stream",
     "text": [
      "tuple1 repeated 3 times: (10, 50, 20, 40, 30, 10, 50, 20, 40, 30, 10, 50, 20, 40, 30)\n"
     ]
    }
   ],
   "source": [
    "# v. Display tuple1 multiple times\n",
    "repeated_tuple = tuple1 * 3\n",
    "print(\"tuple1 repeated 3 times:\", repeated_tuple)"
   ]
  },
  {
   "cell_type": "markdown",
   "id": "1d89f1a0",
   "metadata": {},
   "source": [
    "5. Write a Python program:\n",
    "\n",
    "i. To calculate the length of a string\n",
    "\n",
    "ii. To reverse words in a string\n",
    "\n",
    "iii. To display the same string multiple times\n",
    "\n",
    "Iv. To concatenate two strings Str1=\" South India\", using string slicing to display \"India\"\n"
   ]
  },
  {
   "cell_type": "code",
   "execution_count": 3,
   "id": "12ea5fd2",
   "metadata": {},
   "outputs": [
    {
     "name": "stdout",
     "output_type": "stream",
     "text": [
      "Length of the string: 13\n"
     ]
    }
   ],
   "source": [
    "# i. Calculate the length of a string\n",
    "my_string = \"Hello, World!\"\n",
    "length_of_string = len(my_string)\n",
    "print(\"Length of the string:\", length_of_string)"
   ]
  },
  {
   "cell_type": "code",
   "execution_count": 4,
   "id": "a429f582",
   "metadata": {},
   "outputs": [
    {
     "name": "stdout",
     "output_type": "stream",
     "text": [
      "!dlroW ,olleH\n"
     ]
    }
   ],
   "source": [
    "# ii. Reverse words in a string\n",
    "txt=my_string[::-1]\n",
    "\n",
    "print(txt)"
   ]
  },
  {
   "cell_type": "code",
   "execution_count": 5,
   "id": "7047ddb3",
   "metadata": {},
   "outputs": [
    {
     "name": "stdout",
     "output_type": "stream",
     "text": [
      "String repeated 3 times: Hello, World!Hello, World!Hello, World!\n"
     ]
    }
   ],
   "source": [
    "# iii. Display the same string multiple times\n",
    "string_repeated = my_string * 3\n",
    "print(\"String repeated 3 times:\", string_repeated)"
   ]
  },
  {
   "cell_type": "code",
   "execution_count": 8,
   "id": "d02fb3d2",
   "metadata": {},
   "outputs": [
    {
     "name": "stdout",
     "output_type": "stream",
     "text": [
      "Concatenated string and 'India' extracted: India\n"
     ]
    }
   ],
   "source": [
    "# iv. Concatenate two strings and display \"India\"\n",
    "str1 = \"South India\"\n",
    "substring = str1[6:]  \n",
    "print(\"Concatenated string and 'India' extracted:\", substring)"
   ]
  },
  {
   "cell_type": "markdown",
   "id": "6a89c0a8",
   "metadata": {},
   "source": [
    "# \n",
    "6. Perform the following:\n",
    "\n",
    "i. Creating the Dictionary.\n",
    "\n",
    "ii. Accessing values and keys in the Dictionary.\n",
    "\n",
    "iii. Updating the dictionary using a function.\n",
    "\n",
    "iv. Clear and delete the dictionary values.\n"
   ]
  },
  {
   "cell_type": "code",
   "execution_count": 9,
   "id": "d3d9735f",
   "metadata": {},
   "outputs": [],
   "source": [
    "# i. Creating the Dictionary\n",
    "my_dict = {\n",
    "    \"name\": \"John\",\n",
    "    \"age\": 30,\n",
    "    \"city\": \"New York\"\n",
    "}"
   ]
  },
  {
   "cell_type": "code",
   "execution_count": 10,
   "id": "95e89177",
   "metadata": {},
   "outputs": [],
   "source": [
    "# ii. Accessing values and keys in the Dictionary\n",
    "name_value = my_dict[\"name\"]  # Accessing the value associated with the key \"name\"\n",
    "age_value = my_dict[\"age\"]    # Accessing the value associated with the key \"age\"\n",
    "city_value = my_dict[\"city\"]  # Accessing the value associated with the key \"city\""
   ]
  },
  {
   "cell_type": "code",
   "execution_count": 11,
   "id": "577c0090",
   "metadata": {},
   "outputs": [
    {
     "data": {
      "text/plain": [
       "'John'"
      ]
     },
     "execution_count": 11,
     "metadata": {},
     "output_type": "execute_result"
    }
   ],
   "source": [
    "name_value"
   ]
  },
  {
   "cell_type": "code",
   "execution_count": 12,
   "id": "1bd9c45e",
   "metadata": {},
   "outputs": [
    {
     "data": {
      "text/plain": [
       "30"
      ]
     },
     "execution_count": 12,
     "metadata": {},
     "output_type": "execute_result"
    }
   ],
   "source": [
    "age_value"
   ]
  },
  {
   "cell_type": "code",
   "execution_count": 13,
   "id": "c9f835f1",
   "metadata": {},
   "outputs": [
    {
     "data": {
      "text/plain": [
       "'New York'"
      ]
     },
     "execution_count": 13,
     "metadata": {},
     "output_type": "execute_result"
    }
   ],
   "source": [
    "city_value"
   ]
  },
  {
   "cell_type": "code",
   "execution_count": 14,
   "id": "0e983ae8",
   "metadata": {},
   "outputs": [
    {
     "name": "stdout",
     "output_type": "stream",
     "text": [
      "\n",
      "Updated age: 32\n"
     ]
    }
   ],
   "source": [
    "# iii. Updating the dictionary using a function\n",
    "def update_age(new_age):\n",
    "    my_dict[\"age\"] = new_age\n",
    "\n",
    "update_age(32)\n",
    "print(\"\\nUpdated age:\", my_dict[\"age\"])"
   ]
  },
  {
   "cell_type": "code",
   "execution_count": 15,
   "id": "e12fd1bc",
   "metadata": {},
   "outputs": [
    {
     "name": "stdout",
     "output_type": "stream",
     "text": [
      "\n",
      "Dictionary after clear: {}\n"
     ]
    }
   ],
   "source": [
    "# iv. Clear and delete the dictionary values\n",
    "my_dict.clear()  \n",
    "print(\"\\nDictionary after clear:\", my_dict)"
   ]
  },
  {
   "cell_type": "code",
   "execution_count": 16,
   "id": "7ecf63b5",
   "metadata": {},
   "outputs": [],
   "source": [
    "del my_dict"
   ]
  },
  {
   "cell_type": "markdown",
   "id": "b57777f2",
   "metadata": {},
   "source": [
    "# 7. Python program to insert a number to any position in a list."
   ]
  },
  {
   "cell_type": "code",
   "execution_count": 17,
   "id": "7b858a14",
   "metadata": {},
   "outputs": [
    {
     "name": "stdout",
     "output_type": "stream",
     "text": [
      "Number 10 inserted at position 2\n",
      "Updated list: [1, 2, 10, 3, 4, 5]\n"
     ]
    }
   ],
   "source": [
    "def insert_number_to_list(lst, num, position):\n",
    "    if position < 0 or position > len(lst):\n",
    "        print(\"Invalid position. Position should be between 0 and\", len(lst))\n",
    "    else:\n",
    "        lst.insert(position, num)\n",
    "        print(\"Number\", num, \"inserted at position\", position)\n",
    "        print(\"Updated list:\", lst)\n",
    "\n",
    "# Example usage:\n",
    "my_list = [1, 2, 3, 4, 5]\n",
    "insert_number_to_list(my_list, 10, 2)"
   ]
  },
  {
   "cell_type": "markdown",
   "id": "067adbfd",
   "metadata": {},
   "source": [
    "#8. Python program to delete an element from a list by index. "
   ]
  },
  {
   "cell_type": "code",
   "execution_count": 18,
   "id": "1c3d51a3",
   "metadata": {},
   "outputs": [
    {
     "name": "stdout",
     "output_type": "stream",
     "text": [
      "Element 3 at index 2 has been deleted.\n",
      "Updated list: [1, 2, 4, 5]\n"
     ]
    }
   ],
   "source": [
    "def delete_element_by_index(lst, index):\n",
    "    if index < 0 or index >= len(lst):\n",
    "        print(\"Invalid index. Index should be between 0 and\", len(lst) - 1)\n",
    "    else:\n",
    "        deleted_element = lst.pop(index)\n",
    "        print(\"Element\", deleted_element, \"at index\", index, \"has been deleted.\")\n",
    "        print(\"Updated list:\", lst)\n",
    "\n",
    "my_list = [1, 2, 3, 4, 5]\n",
    "delete_element_by_index(my_list, 2)"
   ]
  },
  {
   "cell_type": "markdown",
   "id": "8e162bc1",
   "metadata": {},
   "source": [
    "# 9. Write a program to display a number from 1 to 100."
   ]
  },
  {
   "cell_type": "code",
   "execution_count": 21,
   "id": "bc4e2973",
   "metadata": {},
   "outputs": [
    {
     "name": "stdout",
     "output_type": "stream",
     "text": [
      "1\n",
      "2\n",
      "3\n",
      "4\n",
      "5\n",
      "6\n",
      "7\n",
      "8\n",
      "9\n",
      "10\n",
      "11\n",
      "12\n",
      "13\n",
      "14\n",
      "15\n",
      "16\n",
      "17\n",
      "18\n",
      "19\n",
      "20\n",
      "21\n",
      "22\n",
      "23\n",
      "24\n",
      "25\n",
      "26\n",
      "27\n",
      "28\n",
      "29\n",
      "30\n",
      "31\n",
      "32\n",
      "33\n",
      "34\n",
      "35\n",
      "36\n",
      "37\n",
      "38\n",
      "39\n",
      "40\n",
      "41\n",
      "42\n",
      "43\n",
      "44\n",
      "45\n",
      "46\n",
      "47\n",
      "48\n",
      "49\n",
      "50\n",
      "51\n",
      "52\n",
      "53\n",
      "54\n",
      "55\n",
      "56\n",
      "57\n",
      "58\n",
      "59\n",
      "60\n",
      "61\n",
      "62\n",
      "63\n",
      "64\n",
      "65\n",
      "66\n",
      "67\n",
      "68\n",
      "69\n",
      "70\n",
      "71\n",
      "72\n",
      "73\n",
      "74\n",
      "75\n",
      "76\n",
      "77\n",
      "78\n",
      "79\n",
      "80\n",
      "81\n",
      "82\n",
      "83\n",
      "84\n",
      "85\n",
      "86\n",
      "87\n",
      "88\n",
      "89\n",
      "90\n",
      "91\n",
      "92\n",
      "93\n",
      "94\n",
      "95\n",
      "96\n",
      "97\n",
      "98\n",
      "99\n",
      "100\n"
     ]
    }
   ],
   "source": [
    "for number in  range(1, 101):\n",
    "    print(number)"
   ]
  },
  {
   "cell_type": "markdown",
   "id": "3e50e9eb",
   "metadata": {},
   "source": [
    "# 10. Write a Python program to find the sum of all items in a tuple."
   ]
  },
  {
   "cell_type": "code",
   "execution_count": 23,
   "id": "fdce27d3",
   "metadata": {},
   "outputs": [
    {
     "name": "stdout",
     "output_type": "stream",
     "text": [
      "Sum of all items in the tuple: 15\n"
     ]
    }
   ],
   "source": [
    "mytuple = (1, 2, 3, 4, 5)\n",
    "total = sum(mytuple)\n",
    "print(\"Sum of all items in the tuple:\", total)"
   ]
  },
  {
   "cell_type": "markdown",
   "id": "c8a9c2c8",
   "metadata": {},
   "source": [
    "# 11. Create a dictionary containing three lambda functions square, cube and square root.\n",
    "\n",
    "i) Eg. dict(\"Square\": function for squaring. 'Cube': function for cube, 'Squareroot\":function for square root)\n",
    "\n",
    "ii) Pass the values (input from the user) to the functions in the dictionary respectively.\n",
    "\n",
    "iii) Then add the outputs of each function and print it.\n"
   ]
  },
  {
   "cell_type": "code",
   "execution_count": 24,
   "id": "d514f5d2",
   "metadata": {},
   "outputs": [
    {
     "name": "stdout",
     "output_type": "stream",
     "text": [
      "Enter a number: 4\n",
      "Square of 4.0 is 16.0\n",
      "Cube of 4.0 is 64.0\n",
      "Square Root of 4.0 is 2.0\n",
      "Sum of the outputs: 82.0\n"
     ]
    }
   ],
   "source": [
    "import math\n",
    "\n",
    "# Create a dictionary with lambda functions\n",
    "functions_dict = {\n",
    "    \"Square\": lambda x: x ** 2,\n",
    "    \"Cube\": lambda x: x ** 3,\n",
    "    \"Square Root\": lambda x: math.sqrt(x)\n",
    "}\n",
    "\n",
    "# Input values from the user\n",
    "user_input = float(input(\"Enter a number: \"))\n",
    "\n",
    "# Initialize a variable to store the sum of outputs\n",
    "result_sum = 0\n",
    "\n",
    "# Apply each function and add the outputs to the result_sum\n",
    "for function_name, function in functions_dict.items():\n",
    "    output = function(user_input)\n",
    "    print(f\"{function_name} of {user_input} is {output}\")\n",
    "    result_sum += output\n",
    "\n",
    "print(\"Sum of the outputs:\", result_sum)\n"
   ]
  },
  {
   "cell_type": "markdown",
   "id": "4c6f5ce8",
   "metadata": {},
   "source": [
    "# 12. A list of words is given. Find the words from the list that have their second character in uppercase.\n",
    "\n",
    "Is['hello', 'Dear', 'how', 'ARe', 'You']\n"
   ]
  },
  {
   "cell_type": "code",
   "execution_count": 25,
   "id": "dc07a76b",
   "metadata": {},
   "outputs": [
    {
     "name": "stdout",
     "output_type": "stream",
     "text": [
      "Words with the second character in uppercase: ['ARe']\n"
     ]
    }
   ],
   "source": [
    "word_list = ['hello', 'Dear', 'how', 'ARe', 'You']\n",
    "\n",
    "result_words = []\n",
    "\n",
    "for word in word_list:\n",
    "    if len(word) > 1 and word[1].isupper():\n",
    "        result_words.append(word)\n",
    "\n",
    "print(\"Words with the second character in uppercase:\", result_words)\n"
   ]
  },
  {
   "cell_type": "markdown",
   "id": "42af681b",
   "metadata": {},
   "source": [
    "# 13. A dictionary of names and their weights on earth is given. Find how much they will weigh on the moon. (Use map and lambda functions) Formula: wMoon = (wEarth * GMoon)/GEarth\n",
    "\n",
    "り\n",
    "\n",
    "i) #Weight of people in kg\n",
    "\n",
    "WeightOnEarth (John':45, \"Shelly':65, \"Marry\":35)\n",
    "\n",
    "ii) #Gravitational force on the Moon: 1.622 m/s2\n",
    "\n",
    "GMoon 1.622\n",
    "\n",
    "iii) #Gravitational force on the Earth: 9.81 m/s2\n",
    "\n",
    "GEarth-9.81\n"
   ]
  },
  {
   "cell_type": "code",
   "execution_count": null,
   "id": "bab3f247",
   "metadata": {},
   "outputs": [],
   "source": []
  }
 ],
 "metadata": {
  "kernelspec": {
   "display_name": "Python 3 (ipykernel)",
   "language": "python",
   "name": "python3"
  },
  "language_info": {
   "codemirror_mode": {
    "name": "ipython",
    "version": 3
   },
   "file_extension": ".py",
   "mimetype": "text/x-python",
   "name": "python",
   "nbconvert_exporter": "python",
   "pygments_lexer": "ipython3",
   "version": "3.11.4"
  }
 },
 "nbformat": 4,
 "nbformat_minor": 5
}
