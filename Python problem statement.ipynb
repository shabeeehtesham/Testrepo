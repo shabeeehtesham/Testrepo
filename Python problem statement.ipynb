{
 "cells": [
  {
   "cell_type": "markdown",
   "id": "f4a90832",
   "metadata": {},
   "source": [
    "# Manipulate using a list.\n",
    "\n",
    "i) To add new elements to the end of the list\n",
    "\n",
    "ii) To reverse elements in the list\n",
    "\n",
    "iii)To display the same list of elements multiple times.\n",
    "\n",
    "iv) To concatenate two list\n",
    "\n",
    "v) To sort the elements in the list in ascending order."
   ]
  },
  {
   "cell_type": "code",
   "execution_count": 2,
   "id": "a6451c37",
   "metadata": {},
   "outputs": [
    {
     "name": "stdout",
     "output_type": "stream",
     "text": [
      "['white', 'blue', 'green', 'orange']\n"
     ]
    }
   ],
   "source": [
    "mylist = [\"white\", \"blue\", \"green\"]\n",
    "mylist.append(\"orange\")\n",
    "print(mylist)"
   ]
  },
  {
   "cell_type": "code",
   "execution_count": 3,
   "id": "3d9fee22",
   "metadata": {},
   "outputs": [
    {
     "name": "stdout",
     "output_type": "stream",
     "text": [
      "Reversed list: ['orange', 'green', 'blue', 'white']\n"
     ]
    }
   ],
   "source": [
    "mylist.reverse()\n",
    "print('Reversed list:', mylist)"
   ]
  },
  {
   "cell_type": "code",
   "execution_count": 4,
   "id": "0cc12ce5",
   "metadata": {},
   "outputs": [
    {
     "name": "stdout",
     "output_type": "stream",
     "text": [
      "['orange', 'green', 'blue', 'white', 'orange', 'green', 'blue', 'white', 'orange', 'green', 'blue', 'white']\n"
     ]
    }
   ],
   "source": [
    "mylist = mylist * 3\n",
    "print(mylist)"
   ]
  },
  {
   "cell_type": "code",
   "execution_count": 6,
   "id": "0133b337",
   "metadata": {},
   "outputs": [
    {
     "name": "stdout",
     "output_type": "stream",
     "text": [
      "[1, 2, 3, 4, 5, 6]\n"
     ]
    }
   ],
   "source": [
    "#iv) To concatenate two list\n",
    "list1 = [1, 2, 3]\n",
    "list2 = [4, 5, 6]\n",
    "concatenated_list = list1 + list2\n",
    "print(concatenated_list)"
   ]
  },
  {
   "cell_type": "code",
   "execution_count": 7,
   "id": "24388fde",
   "metadata": {},
   "outputs": [
    {
     "name": "stdout",
     "output_type": "stream",
     "text": [
      "[1, 2, 3]\n"
     ]
    }
   ],
   "source": [
    "#v) To sort the elements in the list in ascending order.\n",
    "my_list = [3, 1, 2]\n",
    "my_list.sort()\n",
    "print(my_list)"
   ]
  },
  {
   "cell_type": "markdown",
   "id": "4656cfe0",
   "metadata": {},
   "source": [
    "# 2. Write a Python program to do in the tuples.\n",
    "\n",
    "i) Manipulate using tuples.\n",
    "\n",
    "ii) To add new elements to the end of the tuples\n",
    "\n",
    "iii) To reverse elements in the list\n",
    "\n",
    "iv) To display the elements of the same tuple multiple times.\n",
    "\n",
    "v) To concatenate two tuples\n",
    "\n",
    "vi) To sort the elements in the list in ascending order.\n"
   ]
  },
  {
   "cell_type": "code",
   "execution_count": 8,
   "id": "03fd62bf",
   "metadata": {},
   "outputs": [],
   "source": [
    "##i) Manipulate using tuples.\n",
    "#Tuples are immutable, so you can't directly manipulate them. You need to create new tuples with the desired changes."
   ]
  },
  {
   "cell_type": "code",
   "execution_count": 9,
   "id": "2867541b",
   "metadata": {},
   "outputs": [
    {
     "name": "stdout",
     "output_type": "stream",
     "text": [
      "(1, 2, 3, 4, 5)\n"
     ]
    }
   ],
   "source": [
    "#ii) To add new elements to the end of the tuples\n",
    "my_tuple = (1, 2, 3)\n",
    "new_tuple = my_tuple + (4, 5)\n",
    "print(new_tuple)"
   ]
  },
  {
   "cell_type": "code",
   "execution_count": 10,
   "id": "d867488f",
   "metadata": {},
   "outputs": [
    {
     "name": "stdout",
     "output_type": "stream",
     "text": [
      "(3, 2, 1)\n"
     ]
    }
   ],
   "source": [
    "#iii) To reverse elements in the list\n",
    "my_tuple = (1, 2, 3)\n",
    "reversed_tuple = my_tuple[::-1]\n",
    "print(reversed_tuple)"
   ]
  },
  {
   "cell_type": "code",
   "execution_count": 11,
   "id": "8245304f",
   "metadata": {},
   "outputs": [
    {
     "name": "stdout",
     "output_type": "stream",
     "text": [
      "(1, 2, 3, 1, 2, 3, 1, 2, 3)\n"
     ]
    }
   ],
   "source": [
    "#iv) To display the elements of the same tuple multiple times.\n",
    "my_tuple = (1, 2, 3)\n",
    "new_tuple = my_tuple * 3\n",
    "print(new_tuple)"
   ]
  },
  {
   "cell_type": "code",
   "execution_count": 12,
   "id": "99e25602",
   "metadata": {},
   "outputs": [],
   "source": [
    "#v) To concatenate two tuples\n",
    "tuple1 = (1, 2, 3)\n",
    "tuple2 = (4, 5, 6)\n",
    "concatenated_tuple = tuple1 + tuple2\n"
   ]
  },
  {
   "cell_type": "code",
   "execution_count": 13,
   "id": "8ffad782",
   "metadata": {},
   "outputs": [
    {
     "name": "stdout",
     "output_type": "stream",
     "text": [
      "(1, 2, 3, 4, 5, 6)\n"
     ]
    }
   ],
   "source": [
    "print(concatenated_tuple)"
   ]
  },
  {
   "cell_type": "code",
   "execution_count": 14,
   "id": "a1a14a76",
   "metadata": {},
   "outputs": [
    {
     "data": {
      "text/plain": [
       "(3, 1, 2)"
      ]
     },
     "execution_count": 14,
     "metadata": {},
     "output_type": "execute_result"
    }
   ],
   "source": [
    "#vi) To sort the elements in the list in ascending order.\n",
    "my_tuple = (3, 1, 2)\n",
    "sorted\n",
    "my_tuple\n"
   ]
  },
  {
   "cell_type": "code",
   "execution_count": 16,
   "id": "8956708e",
   "metadata": {},
   "outputs": [
    {
     "data": {
      "text/plain": [
       "[1, 2, 3]"
      ]
     },
     "execution_count": 16,
     "metadata": {},
     "output_type": "execute_result"
    }
   ],
   "source": [
    "sorted(my_tuple)"
   ]
  },
  {
   "cell_type": "markdown",
   "id": "ad5b523a",
   "metadata": {},
   "source": [
    "# 3. Write a python program to implement the following using list.\n",
    "\n",
    "i) Create a list with integers (minimum 10 numbers)\n",
    "\n",
    "ii) How to display the last number in the list\n",
    "\n",
    "iii) Command for displaying the values from the list [0:4]\n",
    "\n",
    "iv) Command for displaying the values from the list [2:]\n",
    "\n",
    "v) Command for displaying the values from the list [6]"
   ]
  },
  {
   "cell_type": "code",
   "execution_count": 17,
   "id": "2252d996",
   "metadata": {},
   "outputs": [],
   "source": [
    "#i)Create a list with integers (minimum 10 numbers)\n",
    "my_list = [1, 2, 3, 4, 5, 6, 7, 8, 9, 10]\n"
   ]
  },
  {
   "cell_type": "code",
   "execution_count": 18,
   "id": "a56e0ebe",
   "metadata": {},
   "outputs": [
    {
     "name": "stdout",
     "output_type": "stream",
     "text": [
      "Last number in the list: 10\n"
     ]
    }
   ],
   "source": [
    "#ii) How to display the last number in the list\n",
    "last_number = my_list[-1]\n",
    "print(\"Last number in the list:\", last_number)"
   ]
  },
  {
   "cell_type": "code",
   "execution_count": 19,
   "id": "7bd471ba",
   "metadata": {},
   "outputs": [
    {
     "name": "stdout",
     "output_type": "stream",
     "text": [
      "Values from index 0 to 3: [1, 2, 3, 4]\n"
     ]
    }
   ],
   "source": [
    "#iii) Command for displaying the values from the list [0:4]\n",
    "slice1 = my_list[0:4]\n",
    "print(\"Values from index 0 to 3:\", slice1)"
   ]
  },
  {
   "cell_type": "code",
   "execution_count": 20,
   "id": "903e9b43",
   "metadata": {},
   "outputs": [
    {
     "name": "stdout",
     "output_type": "stream",
     "text": [
      "Values from index 2 to the end: [3, 4, 5, 6, 7, 8, 9, 10]\n"
     ]
    }
   ],
   "source": [
    "#iv) Command for displaying the values from the list [2:]\n",
    "slice2 = my_list[2:]\n",
    "print(\"Values from index 2 to the end:\", slice2)"
   ]
  },
  {
   "cell_type": "code",
   "execution_count": 22,
   "id": "923b6b4e",
   "metadata": {},
   "outputs": [
    {
     "name": "stdout",
     "output_type": "stream",
     "text": [
      "Value at index 6: 7\n"
     ]
    }
   ],
   "source": [
    "#v) Command for displaying the values from the list [6]\n",
    "value_at_index_6 = my_list[6]\n",
    "print(\"Value at index 6:\", value_at_index_6)"
   ]
  },
  {
   "cell_type": "markdown",
   "id": "a171ed06",
   "metadata": {},
   "source": [
    "# 4. Write a Python program: tuple1 = (10,50,20,40,30)\n",
    "\n",
    "i.To display the elements 10 and 50 from tuple1\n",
    "\n",
    "ii. To display the length of a tuple1.\n",
    "\n",
    "iii. To find the minimum element from tuple1.\n",
    "\n",
    "iv. To add all elements in the tuple1.\n",
    "\n",
    "v. To display the same tuple1 multiple times.\n"
   ]
  },
  {
   "cell_type": "code",
   "execution_count": 24,
   "id": "e1ff9a5f",
   "metadata": {},
   "outputs": [
    {
     "name": "stdout",
     "output_type": "stream",
     "text": [
      "Elements 10 and 50: 10 50\n"
     ]
    }
   ],
   "source": [
    "#i.To display the elements 10 and 50 from tuple1\n",
    "tuple1 = (10, 50, 20, 40, 30)\n",
    "element_1 = tuple1[0]\n",
    "element_2 = tuple1[1]\n",
    "print(\"Elements 10 and 50:\", element_1, element_2)"
   ]
  },
  {
   "cell_type": "code",
   "execution_count": 25,
   "id": "17190cb2",
   "metadata": {},
   "outputs": [
    {
     "name": "stdout",
     "output_type": "stream",
     "text": [
      "Length of tuple1: 5\n"
     ]
    }
   ],
   "source": [
    "#ii. To display the length of a tuple1.\n",
    "length_of_tuple1 = len(tuple1)\n",
    "print(\"Length of tuple1:\", length_of_tuple1)"
   ]
  },
  {
   "cell_type": "code",
   "execution_count": 26,
   "id": "8a054cdb",
   "metadata": {},
   "outputs": [
    {
     "name": "stdout",
     "output_type": "stream",
     "text": [
      "Minimum element in tuple1: 10\n"
     ]
    }
   ],
   "source": [
    "#iii. To find the minimum element from tuple1.\n",
    "min_element = min(tuple1)\n",
    "print(\"Minimum element in tuple1:\", min_element)"
   ]
  },
  {
   "cell_type": "code",
   "execution_count": 27,
   "id": "74a89c80",
   "metadata": {},
   "outputs": [
    {
     "name": "stdout",
     "output_type": "stream",
     "text": [
      "Sum of elements in tuple1: 150\n"
     ]
    }
   ],
   "source": [
    "# iv. Add all elements in tuple1\n",
    "sum_of_elements = sum(tuple1)\n",
    "print(\"Sum of elements in tuple1:\", sum_of_elements)"
   ]
  },
  {
   "cell_type": "code",
   "execution_count": 28,
   "id": "7e8fac70",
   "metadata": {},
   "outputs": [
    {
     "name": "stdout",
     "output_type": "stream",
     "text": [
      "tuple1 repeated 3 times: (10, 50, 20, 40, 30, 10, 50, 20, 40, 30, 10, 50, 20, 40, 30)\n"
     ]
    }
   ],
   "source": [
    "# v. Display tuple1 multiple times\n",
    "repeated_tuple = tuple1 * 3\n",
    "print(\"tuple1 repeated 3 times:\", repeated_tuple)"
   ]
  },
  {
   "cell_type": "markdown",
   "id": "1d89f1a0",
   "metadata": {},
   "source": [
    "5. Write a Python program:\n",
    "\n",
    "i. To calculate the length of a string\n",
    "\n",
    "ii. To reverse words in a string\n",
    "\n",
    "iii. To display the same string multiple times\n",
    "\n",
    "Iv. To concatenate two strings Str1=\" South India\", using string slicing to display \"India\"\n"
   ]
  },
  {
   "cell_type": "code",
   "execution_count": 3,
   "id": "12ea5fd2",
   "metadata": {},
   "outputs": [
    {
     "name": "stdout",
     "output_type": "stream",
     "text": [
      "Length of the string: 13\n"
     ]
    }
   ],
   "source": [
    "# i. Calculate the length of a string\n",
    "my_string = \"Hello, World!\"\n",
    "length_of_string = len(my_string)\n",
    "print(\"Length of the string:\", length_of_string)"
   ]
  },
  {
   "cell_type": "code",
   "execution_count": 4,
   "id": "a429f582",
   "metadata": {},
   "outputs": [
    {
     "name": "stdout",
     "output_type": "stream",
     "text": [
      "!dlroW ,olleH\n"
     ]
    }
   ],
   "source": [
    "# ii. Reverse words in a string\n",
    "txt=my_string[::-1]\n",
    "\n",
    "print(txt)"
   ]
  },
  {
   "cell_type": "code",
   "execution_count": 5,
   "id": "7047ddb3",
   "metadata": {},
   "outputs": [
    {
     "name": "stdout",
     "output_type": "stream",
     "text": [
      "String repeated 3 times: Hello, World!Hello, World!Hello, World!\n"
     ]
    }
   ],
   "source": [
    "# iii. Display the same string multiple times\n",
    "string_repeated = my_string * 3\n",
    "print(\"String repeated 3 times:\", string_repeated)"
   ]
  },
  {
   "cell_type": "code",
   "execution_count": 8,
   "id": "d5e518b3",
   "metadata": {},
   "outputs": [
    {
     "name": "stdout",
     "output_type": "stream",
     "text": [
      "Concatenated string and 'India' extracted: India\n"
     ]
    }
   ],
   "source": [
    "# iv. Concatenate two strings and display \"India\"\n",
    "str1 = \"South India\"\n",
    "substring = str1[6:]  \n",
    "print(\"Concatenated string and 'India' extracted:\", substring)"
   ]
  },
  {
   "cell_type": "code",
   "execution_count": null,
   "id": "0fe680c1",
   "metadata": {},
   "outputs": [],
   "source": []
  }
 ],
 "metadata": {
  "kernelspec": {
   "display_name": "Python 3 (ipykernel)",
   "language": "python",
   "name": "python3"
  },
  "language_info": {
   "codemirror_mode": {
    "name": "ipython",
    "version": 3
   },
   "file_extension": ".py",
   "mimetype": "text/x-python",
   "name": "python",
   "nbconvert_exporter": "python",
   "pygments_lexer": "ipython3",
   "version": "3.11.4"
  }
 },
 "nbformat": 4,
 "nbformat_minor": 5
}
